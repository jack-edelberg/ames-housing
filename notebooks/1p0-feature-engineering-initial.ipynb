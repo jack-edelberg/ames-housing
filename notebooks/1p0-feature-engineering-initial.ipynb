{
 "cells": [
  {
   "attachments": {},
   "cell_type": "markdown",
   "metadata": {},
   "source": [
    "1. Break MSSubClass into several features\n",
    "    - number of stories\n",
    "    - age of home (pre_1945)\n",
    "    - number of floors (overlaps with \"HouseStyle\")\n",
    "    - if the house is located in a development or not (ie, does it have a HOA?)\n",
    "    - if it is a single-family home\n",
    "\n",
    "2. Pseudo-quantifiable to quantifiable\n",
    "    - Street\n",
    "    - Alley\n",
    "    - LandSlope\n",
    "    - Condition1 and Condition2\n",
    "        - Consider creating some sort of \"Noise\" variable?\n",
    "            - +6 for RR adjacent\n",
    "            - +4 for RR near\n",
    "            - +2 for feeder\n",
    "            - +4 for artery\n",
    "        - Consider creating an \"ambiance\" feature?\n",
    "            - +1 for nearby positive\n",
    "            - +3 for adjacent positive\n",
    "    - BsmtQual -> basement-height\n",
    "        - Ex = 105\n",
    "        - Gd = 95\n",
    "        - TA = 85\n",
    "        - Fa = 75\n",
    "        - Po = 65\n",
    "        - NA = 0\n",
    "    - BsmtCond -> basement-condition\n",
    "    - BsmtExposure -> basement-exposure\n",
    "    - KitchenQual -> kitchen-quality\n",
    "    - Functional -> overall-functionality\n",
    "    - FireplaceQu -> fireplace-quality\n",
    "\n",
    "\n",
    "3. Create dummies\n",
    "    - Utilities (Electricity, sewer, water, gas)\n",
    "    - Exterior Finish (Exterior1st, Exterior2nd)\n",
    "        - exterior-brick (BrkComm, BrkFace)\n",
    "        - exterior-stone (Stone)\n",
    "        - exterior-asbestos (AsbShng)\n",
    "        - exterior-asphalt (AsphShn)\n",
    "        - exterior-unfinished (CBlock, CemntBoard, HdBoard, Plywood, PreCast)\n",
    "        - exterior-wood (Wd Sdng, WdShing)\n",
    "        - exterior-plaster (ImStucc, Stucco)\n",
    "        - exterior-plastic (VinylSid)\n",
    "        - exterior-metal (MetalSd)\n",
    "        - exterior-other (Other)\n",
    "        - exterior-durable\n",
    "            - T = OR(exterior-brick, exterior-asbestos, exterior-asphalt, exterior-plastic, exterior-metal)\n",
    "    - Foundation\n",
    "        - foundation-modern (CBlock, PConc, Slab)\n",
    "    - Basement\n",
    "        - basement-present (T/F)\n",
    "        - basement-bedroom (GLQ, ALQ, BLQ)\n",
    "        - basement-recreation (Rec)\n",
    "        - basement-unfinished (LwQ, Unf)\n",
    "    - Heating\n",
    "        - **Do research on these types of furnaces to determine what the modern ones are**\n",
    "    - CentralAir -> air-conditioning (T/F)\n",
    "    - Garages\n",
    "        - garage-present\n",
    "            - F = CarPort, NA\n",
    "        - garage-attached (2Types, Attchd, Basment, BuiltIn)\n",
    "        - garage\n",
    "\n",
    "\n",
    "\n",
    "4. Flag remodelling \n",
    "    - if YearBuilt != YearRemodAdd\n",
    "    - years since remodel?\n",
    "   "
   ]
  },
  {
   "cell_type": "code",
   "execution_count": 47,
   "metadata": {},
   "outputs": [],
   "source": [
    "import os\n",
    "import sys\n",
    "\n",
    "PROJECT_ROOT = \\\n",
    "    os.path.abspath(os.path.join(\n",
    "        os.path.dirname(\"\"),\n",
    "        os.pardir))\n",
    "\n",
    "sys.path.append(PROJECT_ROOT)"
   ]
  },
  {
   "cell_type": "code",
   "execution_count": 48,
   "metadata": {},
   "outputs": [],
   "source": [
    "import pandas as pd\n",
    "import numpy as np"
   ]
  },
  {
   "cell_type": "code",
   "execution_count": 49,
   "metadata": {},
   "outputs": [],
   "source": [
    "train = pd.read_csv(PROJECT_ROOT + \"/data/interim/train-cleaned.csv\")\n",
    "test = pd.read_csv(PROJECT_ROOT + \"/data/interim/test-cleaned.csv\")"
   ]
  },
  {
   "cell_type": "code",
   "execution_count": 50,
   "metadata": {},
   "outputs": [
    {
     "name": "stdout",
     "output_type": "stream",
     "text": [
      "<class 'pandas.core.frame.DataFrame'>\n",
      "RangeIndex: 1460 entries, 0 to 1459\n",
      "Data columns (total 82 columns):\n",
      " #   Column                                 Non-Null Count  Dtype  \n",
      "---  ------                                 --------------  -----  \n",
      " 0   Unnamed: 0                             1460 non-null   int64  \n",
      " 1   id                                     1460 non-null   int64  \n",
      " 2   ms-subclass                            1460 non-null   object \n",
      " 3   ms-zoning                              1460 non-null   object \n",
      " 4   lot-frontage                           1460 non-null   int64  \n",
      " 5   lot-area                               1460 non-null   int64  \n",
      " 6   roads-street-material                  1460 non-null   object \n",
      " 7   roads-alley-material                   1460 non-null   object \n",
      " 8   lot-shape                              1460 non-null   object \n",
      " 9   lot-flatness                           1460 non-null   object \n",
      " 10  utilities-city-provided                1460 non-null   object \n",
      " 11  lot-access                             1460 non-null   object \n",
      " 12  lot-slope                              1460 non-null   object \n",
      " 13  location-neighborhood                  1460 non-null   object \n",
      " 14  location-feature-1                     1460 non-null   object \n",
      " 15  location-feature-2                     1460 non-null   object \n",
      " 16  general-dwelling-type                  1460 non-null   object \n",
      " 17  construction-style                     1460 non-null   object \n",
      " 18  ratings-overall-quality                1460 non-null   int64  \n",
      " 19  ratings-overall-condition              1460 non-null   int64  \n",
      " 20  general-build-year                     1460 non-null   int64  \n",
      " 21  general-remodel-year                   1460 non-null   int64  \n",
      " 22  construction-roof-style                1460 non-null   object \n",
      " 23  construction-roof-material             1460 non-null   object \n",
      " 24  construction-exterior-1                1460 non-null   object \n",
      " 25  construction-exterior-2                1460 non-null   object \n",
      " 26  construction-masonry-type              1460 non-null   object \n",
      " 27  area-masonry-veneer                    1460 non-null   int64  \n",
      " 28  ratings-exterior-quality               1460 non-null   object \n",
      " 29  ratings-exterior-condition             1460 non-null   object \n",
      " 30  construction-foundation-type           1460 non-null   object \n",
      " 31  ratings-basement-quality               1423 non-null   object \n",
      " 32  ratings-basement-condition             1423 non-null   object \n",
      " 33  construction-basement-access           1422 non-null   object \n",
      " 34  construction-basement-finish-1         1423 non-null   object \n",
      " 35  area-basement-finished-1               1460 non-null   int64  \n",
      " 36  construction-basement-finish-2         1422 non-null   object \n",
      " 37  area-basement-finished-2               1460 non-null   int64  \n",
      " 38  area-basement-unfinished               1460 non-null   int64  \n",
      " 39  area-basement-total                    1460 non-null   int64  \n",
      " 40  utilities-heating-type                 1460 non-null   object \n",
      " 41  ratings-heating-combined               1460 non-null   object \n",
      " 42  utilities-central-air-conditioning     1460 non-null   object \n",
      " 43  utilities-electrical-wiring-type       1460 non-null   object \n",
      " 44  area-floor-1                           1460 non-null   int64  \n",
      " 45  area-floor-2                           1460 non-null   int64  \n",
      " 46  general-total-poor-finish-area         1460 non-null   int64  \n",
      " 47  area-above-grade-living                1460 non-null   int64  \n",
      " 48  general-number-basement-full-baths     1460 non-null   int64  \n",
      " 49  general-number-basement-half-baths     1460 non-null   int64  \n",
      " 50  general-number-nonbasement-full-baths  1460 non-null   int64  \n",
      " 51  general-number-nonbasement-half-baths  1460 non-null   int64  \n",
      " 52  general-number-nonbasement-bedrooms    1460 non-null   int64  \n",
      " 53  general-number-kitchens                1460 non-null   int64  \n",
      " 54  ratings-kitchen-quality                1460 non-null   object \n",
      " 55  general-number-nonbasement-rooms       1460 non-null   int64  \n",
      " 56  ratings-home-functionality             1460 non-null   object \n",
      " 57  general-number-fireplaces              1460 non-null   int64  \n",
      " 58  ratings-fireplace-quality              770 non-null    object \n",
      " 59  garage-location                        1379 non-null   object \n",
      " 60  garage-build-year                      1379 non-null   float64\n",
      " 61  garage-finish                          1379 non-null   object \n",
      " 62  general-number-garage-spots            1460 non-null   int64  \n",
      " 63  area-garage                            1460 non-null   int64  \n",
      " 64  ratings-garage-quality                 1379 non-null   object \n",
      " 65  ratings-garage-condition               1379 non-null   object \n",
      " 66  roads-driveway-material                1460 non-null   object \n",
      " 67  area-wood-deck                         1460 non-null   int64  \n",
      " 68  area-open-porch                        1460 non-null   int64  \n",
      " 69  area-closed-porch                      1460 non-null   int64  \n",
      " 70  area-three-season                      1460 non-null   int64  \n",
      " 71  area-screen-porch                      1460 non-null   int64  \n",
      " 72  area-pool                              1460 non-null   int64  \n",
      " 73  ratings-pool-combined                  7 non-null      object \n",
      " 74  lot-fence-material                     281 non-null    object \n",
      " 75  lot-misc-feature                       54 non-null     object \n",
      " 76  lot-misc-value                         1460 non-null   int64  \n",
      " 77  general-month-sold                     1460 non-null   int64  \n",
      " 78  general-year-sold                      1460 non-null   int64  \n",
      " 79  general-sale-type                      1460 non-null   object \n",
      " 80  general-sale-condition                 1460 non-null   object \n",
      " 81  sale-price                             1460 non-null   int64  \n",
      "dtypes: float64(1), int64(37), object(44)\n",
      "memory usage: 935.4+ KB\n"
     ]
    }
   ],
   "source": [
    "train.info()"
   ]
  },
  {
   "attachments": {},
   "cell_type": "markdown",
   "metadata": {},
   "source": [
    "Need to address columns that contain strings, since they are not going to work with most ML techniques"
   ]
  },
  {
   "cell_type": "code",
   "execution_count": 51,
   "metadata": {},
   "outputs": [
    {
     "name": "stdout",
     "output_type": "stream",
     "text": [
      "The following columns contain string values:\n",
      "(1) ms-subclass\n",
      "(2) ms-zoning\n",
      "(3) roads-street-material\n",
      "(4) roads-alley-material\n",
      "(5) lot-shape\n",
      "(6) lot-flatness\n",
      "(7) utilities-city-provided\n",
      "(8) lot-access\n",
      "(9) lot-slope\n",
      "(10) location-neighborhood\n",
      "(11) location-feature-1\n",
      "(12) location-feature-2\n",
      "(13) general-dwelling-type\n",
      "(14) construction-style\n",
      "(15) construction-roof-style\n",
      "(16) construction-roof-material\n",
      "(17) construction-exterior-1\n",
      "(18) construction-exterior-2\n",
      "(19) construction-masonry-type\n",
      "(20) ratings-exterior-quality\n",
      "(21) ratings-exterior-condition\n",
      "(22) construction-foundation-type\n",
      "(23) ratings-basement-quality\n",
      "(24) ratings-basement-condition\n",
      "(25) construction-basement-access\n",
      "(26) construction-basement-finish-1\n",
      "(27) construction-basement-finish-2\n",
      "(28) utilities-heating-type\n",
      "(29) ratings-heating-combined\n",
      "(30) utilities-central-air-conditioning\n",
      "(31) utilities-electrical-wiring-type\n",
      "(32) ratings-kitchen-quality\n",
      "(33) ratings-home-functionality\n",
      "(34) garage-location\n",
      "(35) garage-finish\n",
      "(36) ratings-garage-quality\n",
      "(37) ratings-garage-condition\n",
      "(38) roads-driveway-material\n",
      "(39) general-sale-type\n",
      "(40) general-sale-condition\n"
     ]
    }
   ],
   "source": [
    "def print_string_columns():\n",
    "    print(\"The following columns contain string values:\")\n",
    "\n",
    "    str_cols = []\n",
    "\n",
    "    for column in train.columns:\n",
    "        if type(train.loc[0, column]) == str:\n",
    "            str_cols.append(column)\n",
    "            print(f\"({len(str_cols)}) \" + column)\n",
    "\n",
    "print_string_columns()"
   ]
  },
  {
   "cell_type": "code",
   "execution_count": 52,
   "metadata": {},
   "outputs": [
    {
     "data": {
      "text/plain": [
       "ms-subclass\n",
       "1-STORY 1946 & NEWER ALL STYLES                          536\n",
       "2-STORY 1946 & NEWER                                     299\n",
       "1-1/2 STORY FINISHED ALL AGES                            144\n",
       "1-STORY PUD (Planned Unit Development) - 1946 & NEWER     87\n",
       "1-STORY 1945 & OLDER                                      69\n",
       "2-STORY PUD - 1946 & NEWER                                63\n",
       "2-STORY 1945 & OLDER                                      60\n",
       "SPLIT OR MULTI-LEVEL                                      58\n",
       "DUPLEX - ALL STYLES AND AGES                              52\n",
       "2 FAMILY CONVERSION - ALL STYLES AND AGES                 30\n",
       "SPLIT FOYER                                               20\n",
       "2-1/2 STORY ALL AGES                                      16\n",
       "1-1/2 STORY - UNFINISHED ALL AGES                         12\n",
       "PUD - MULTILEVEL - INCL SPLIT LEV/FOYER                   10\n",
       "1-STORY W/FINISHED ATTIC ALL AGES                          4\n",
       "Name: count, dtype: int64"
      ]
     },
     "execution_count": 52,
     "metadata": {},
     "output_type": "execute_result"
    }
   ],
   "source": [
    "train[\"ms-subclass\"].value_counts()"
   ]
  },
  {
   "attachments": {},
   "cell_type": "markdown",
   "metadata": {},
   "source": [
    "There are a few different things that can be extracted from the ms-subclass column:\n",
    "* Number of stories\n",
    "* Year built\n",
    "* If it is part of a planned unit development (PUD or subdivision)\n",
    "* If it is a multi-family home (duplex)\n",
    "\n",
    "Only some of this information is not contained within the remainder of the dataframe:\n",
    "* Number of stories\n",
    "* PUD status\n",
    "* Multi-family status"
   ]
  },
  {
   "cell_type": "code",
   "execution_count": 53,
   "metadata": {},
   "outputs": [],
   "source": [
    "STORY_MAP = {\n",
    "    \"1-STORY 1946 & NEWER ALL STYLES\": 1,\n",
    "    \"2-STORY 1946 & NEWER\": 2,\n",
    "    \"1-1/2 STORY FINISHED ALL AGES\": 1.5,\n",
    "    \"1-STORY PUD (Planned Unit Development) - 1946 & NEWER\": 1,\n",
    "    \"1-STORY 1945 & OLDER\": 1,\n",
    "    \"2-STORY PUD - 1946 & NEWER\": 2,\n",
    "    \"2-STORY 1945 & OLDER\": 2,\n",
    "    \"SPLIT OR MULTI-LEVEL\": 1.5,\n",
    "    \"DUPLEX - ALL STYLES AND AGES\": 2,\n",
    "    \"2 FAMILY CONVERSION - ALL STYLES AND AGES\": 2,\n",
    "    \"SPLIT FOYER\": 1.5,\n",
    "    \"2-1/2 STORY ALL AGES\": 2.5,\n",
    "    \"1-1/2 STORY - UNFINISHED ALL AGES\": 1.5,\n",
    "    \"PUD - MULTILEVEL - INCL SPLIT LEV/FOYER\": 1.5,\n",
    "    \"1-STORY W/FINISHED ATTIC ALL AGES\": 1.5}\n",
    "\n",
    "REGION_MAP =  \\\n",
    "    {'bloomington-heights':'location-far-north',  \n",
    "     'bluestem':'location-southwest',\n",
    "     'briardale':'location-near-north',\n",
    "     'brookside':'location-downtown',\n",
    "     'clear-creek':'location-near-west',\n",
    "     'college-creek':'location-far-west',\n",
    "     'crawford':'location-southwest',\n",
    "     'edwards':'location-near-west',\n",
    "     'gilberts':'location-far-north',\n",
    "     'greens':'location-northwest',\n",
    "     'green-hill':'location-far-southwest',\n",
    "     'iowa-dot-rail-road':'location-downtown',\n",
    "     'landmark':'location-far-west',\n",
    "     'meadow-village':'location-south',\n",
    "     'mitchell':'location-south',\n",
    "     'north-ames':'location-near-north',\n",
    "     'northpart-villa':'location-near-north',\n",
    "     'northwest-ames':'location-near-north',\n",
    "     'northridge':'location-northwest',\n",
    "     'northridge-heights': 'location-northwest',\n",
    "     'old-town':'location-downtown',\n",
    "     'south-and-west-iowa-state':'location-southwest',\n",
    "     'sawyer':'location-near-west',\n",
    "     'sawyer-west':'location-far-west',\n",
    "     'somerset':'location-northwest',\n",
    "     'stone-brook':'location-far-north',\n",
    "     'timberland':'location-far-southwest',\n",
    "     'veenker':'location-near-west'}\n",
    "\n",
    "ZONING_MAP = {\n",
    "    \"residential-low-density\": 1,\n",
    "    \"residential-medium-density\": 2,\n",
    "    \"residential-floating-village\": 1,\n",
    "    \"residential-high-density\": 3}\n",
    "\n",
    "QUALITY_MAP = {\n",
    "    \"Po\": 0,\n",
    "    \"TA\": 1,\n",
    "    \"Fa\": 2,\n",
    "    \"Gd\": 3,\n",
    "    \"Ex\": 4}\n",
    "\n",
    "FUNCTIONALITY_MAP = {\n",
    "    \"Sev\": 0,\n",
    "    \"Maj2\": 1,\n",
    "    \"Maj1\": 2,\n",
    "    \"Mod\": 3,\n",
    "    \"Min2\": 4,\n",
    "    \"Min1\": 5,\n",
    "    \"Typ\": 6}\n",
    "\n",
    "EXPOSURE_MAP = {\n",
    "    \"No\": 0,\n",
    "    \"Mn\": 1,\n",
    "    \"Av\": 2,\n",
    "    \"Gd\": 3}\n",
    "\n",
    "FENCE_MAP = {\n",
    "    np.nan: 0,\n",
    "    \"MnWw\": 1,\n",
    "    \"GdWo\": 2,\n",
    "    \"MnPrv\": 3,\n",
    "    \"GdPrv\": 4}"
   ]
  },
  {
   "cell_type": "code",
   "execution_count": 54,
   "metadata": {},
   "outputs": [],
   "source": [
    "string_columns = []\n",
    "unused_columns = []"
   ]
  },
  {
   "cell_type": "code",
   "execution_count": 55,
   "metadata": {},
   "outputs": [],
   "source": [
    "train[\"pud\"] = train[\"ms-subclass\"].str.contains(\"PUD\")\n",
    "train[\"multi-family\"] = train[\"ms-subclass\"].str.contains(\"DUPLEX\")\n",
    "train[\"stories\"] = train[\"ms-subclass\"].map(STORY_MAP)\n",
    "test[\"pud\"] = test[\"ms-subclass\"].str.contains(\"PUD\")\n",
    "test[\"multi-family\"] = test[\"ms-subclass\"].str.contains(\"DUPLEX\")\n",
    "test[\"stories\"] = test[\"ms-subclass\"].map(STORY_MAP)\n",
    "\n",
    "string_columns.append(\"ms-subclass\")\n",
    "\n",
    "# train = train.drop(\"ms-subclass\", axis=\"columns\")\n",
    "# test = test.drop(\"ms-subclass\", axis=\"columns\")"
   ]
  },
  {
   "cell_type": "code",
   "execution_count": 56,
   "metadata": {},
   "outputs": [],
   "source": [
    "train[\"zoning-density\"] = train[\"ms-zoning\"].map(ZONING_MAP)\n",
    "test[\"zoning-density\"] = test[\"ms-zoning\"].map(ZONING_MAP)\n",
    "\n",
    "string_columns.append(\"ms-zoning\")\n",
    "\n",
    "# train = train.drop(\"ms-zoning\", axis=\"columns\")\n",
    "# test = test.drop(\"ms-zoning\", axis=\"columns\")"
   ]
  },
  {
   "cell_type": "code",
   "execution_count": 57,
   "metadata": {},
   "outputs": [],
   "source": [
    "train[\"roads-paved\"] = train[\"roads-street-material\"].str.contains(\"paved\")\n",
    "test[\"roads-paved\"] = test[\"roads-street-material\"].str.contains(\"paved\")\n",
    "\n",
    "string_columns.append(\"roads-street-material\")\n",
    "\n",
    "# train = train.drop(\"roads-street-material\", axis=\"columns\")\n",
    "# test = test.drop(\"roads-street-material\", axis=\"columns\")"
   ]
  },
  {
   "cell_type": "code",
   "execution_count": 58,
   "metadata": {},
   "outputs": [],
   "source": [
    "train[\"has-alley\"] = ~train[\"roads-alley-material\"].str.contains(\"none\")\n",
    "test[\"has-alley\"] = ~test[\"roads-alley-material\"].str.contains(\"none\")\n",
    "\n",
    "string_columns.append(\"roads-alley-material\")\n",
    "\n",
    "# train = train.drop(\"roads-alley-material\", axis=\"columns\")\n",
    "# test = test.drop(\"roads-alley-material\", axis=\"columns\")"
   ]
  },
  {
   "cell_type": "code",
   "execution_count": 59,
   "metadata": {},
   "outputs": [],
   "source": [
    "train[\"all-city-utilities\"] = train[\"utilities-city-provided\"].str.contains(\"electricity-gas-water-sewer\")\n",
    "test[\"all-city-utilities\"] = test[\"utilities-city-provided\"].str.contains(\"electricity-gas-water-sewer\")\n",
    "\n",
    "string_columns.append(\"utilities-city-provided\")\n",
    "\n",
    "# train = train.drop(\"utilities-city-provided\", axis=\"columns\")\n",
    "# test = test.drop(\"utilities-city-provided\", axis=\"columns\")"
   ]
  },
  {
   "cell_type": "markdown",
   "metadata": {},
   "source": [
    "Location features include information on non-lot features near the lot in question. To make this useable in the ML model, I will split this information into several different columns:\n",
    "* \"adjacent-railroad\"\n",
    "* \"adjacent-traffic\"\n",
    "* \"adjacent-park\"\n",
    "* \"near-railroad\"\n",
    "* \"near-park\""
   ]
  },
  {
   "cell_type": "code",
   "execution_count": 60,
   "metadata": {},
   "outputs": [],
   "source": [
    "train[\"adjacent-railroad\"] = \\\n",
    "    train[\"location-feature-1\"].str.contains(\"RRAn\") \\\n",
    "        | train[\"location-feature-1\"].str.contains(\"RRAe\") \\\n",
    "        | train[\"location-feature-2\"].str.contains(\"RRAn\") \\\n",
    "        | train[\"location-feature-2\"].str.contains(\"RRAe\")\n",
    "train[\"near-railroad\"] = \\\n",
    "    train[\"location-feature-1\"].str.contains(\"RRNn\") \\\n",
    "        | train[\"location-feature-1\"].str.contains(\"RRNe\") \\\n",
    "        | train[\"location-feature-2\"].str.contains(\"RRNn\") \\\n",
    "        | train[\"location-feature-2\"].str.contains(\"RRNe\") \\\n",
    "        | train[\"adjacent-railroad\"]\n",
    "train[\"adjacent-traffic\"] = \\\n",
    "    train[\"location-feature-1\"].str.contains(\"Artery\") \\\n",
    "        | train[\"location-feature-1\"].str.contains(\"Feedr\") \\\n",
    "        | train[\"location-feature-2\"].str.contains(\"Artery\") \\\n",
    "        | train[\"location-feature-2\"].str.contains(\"Feedr\")\n",
    "train[\"adjacent-park\"] = \\\n",
    "    train[\"location-feature-1\"].str.contains(\"PosA\") \\\n",
    "        | train[\"location-feature-2\"].str.contains(\"PosA\")\n",
    "train[\"near-park\"] = \\\n",
    "    train[\"location-feature-1\"].str.contains(\"PosN\") \\\n",
    "        | train[\"location-feature-2\"].str.contains(\"PosN\") \\\n",
    "        | train[\"adjacent-park\"]\n",
    "test[\"adjacent-railroad\"] = \\\n",
    "    test[\"location-feature-1\"].str.contains(\"RRAn\") \\\n",
    "        | test[\"location-feature-1\"].str.contains(\"RRAe\") \\\n",
    "        | test[\"location-feature-2\"].str.contains(\"RRAn\") \\\n",
    "        | test[\"location-feature-2\"].str.contains(\"RRAe\")\n",
    "test[\"near-railroad\"] = \\\n",
    "    test[\"location-feature-1\"].str.contains(\"RRNn\") \\\n",
    "        | test[\"location-feature-1\"].str.contains(\"RRNe\") \\\n",
    "        | test[\"location-feature-2\"].str.contains(\"RRNn\") \\\n",
    "        | test[\"location-feature-2\"].str.contains(\"RRNe\") \\\n",
    "        | test[\"adjacent-railroad\"]\n",
    "test[\"adjacent-traffic\"] = \\\n",
    "    test[\"location-feature-1\"].str.contains(\"Artery\") \\\n",
    "        | test[\"location-feature-1\"].str.contains(\"Feedr\") \\\n",
    "        | test[\"location-feature-2\"].str.contains(\"Artery\") \\\n",
    "        | test[\"location-feature-2\"].str.contains(\"Feedr\")\n",
    "test[\"adjacent-park\"] = \\\n",
    "    test[\"location-feature-1\"].str.contains(\"PosA\") \\\n",
    "        | test[\"location-feature-2\"].str.contains(\"PosA\")\n",
    "test[\"near-park\"] = \\\n",
    "    test[\"location-feature-1\"].str.contains(\"PosN\") \\\n",
    "        | test[\"location-feature-2\"].str.contains(\"PosN\") \\\n",
    "        | test[\"adjacent-park\"]\n",
    "\n",
    "string_columns.append(\"location-feature-1\")\n",
    "string_columns.append(\"location-feature-2\")\n",
    "\n",
    "# train = train.drop([\"location-feature-1\", \"location-feature-2\"], axis=\"columns\")\n",
    "# test = test.drop([\"location-feature-1\", \"location-feature-2\"], axis=\"columns\")"
   ]
  },
  {
   "cell_type": "code",
   "execution_count": 61,
   "metadata": {},
   "outputs": [],
   "source": [
    "train[\"multi-family\"] = ~train[\"general-dwelling-type\"].str.contains(\"1Fam\")\n",
    "test[\"multi-family\"] = ~test[\"general-dwelling-type\"].str.contains(\"1Fam\")\n",
    "\n",
    "string_columns.append(\"general-dwelling-type\")\n",
    "\n",
    "# train = train.drop(\"general-dwelling-type\", axis=\"columns\")\n",
    "# test = test.drop(\"general-dwelling-type\", axis=\"columns\")"
   ]
  },
  {
   "cell_type": "markdown",
   "metadata": {},
   "source": [
    "Construction style contains no new additional information beyond what was extracted from ms-subclass, so we can drop it"
   ]
  },
  {
   "cell_type": "code",
   "execution_count": 62,
   "metadata": {},
   "outputs": [],
   "source": [
    "unused_columns.append(\"construction-style\")\n",
    "\n",
    "# train = train.drop(\"construction-style\", axis=\"columns\")\n",
    "# test = test.drop(\"construction-style\", axis=\"columns\")"
   ]
  },
  {
   "cell_type": "code",
   "execution_count": 63,
   "metadata": {},
   "outputs": [],
   "source": [
    "train[\"siding-unfinished\"] = \\\n",
    "    train[\"construction-exterior-1\"].str.contains(\"CBlock\") \\\n",
    "    | train[\"construction-exterior-1\"].str.contains(\"Other\") \\\n",
    "    | train[\"construction-exterior-1\"].str.contains(\"PreCast\") \\\n",
    "    | train[\"construction-exterior-1\"].str.contains(\"Plywood\") \\\n",
    "    | train[\"construction-exterior-2\"].str.contains(\"CBlock\") \\\n",
    "    | train[\"construction-exterior-2\"].str.contains(\"Other\") \\\n",
    "    | train[\"construction-exterior-2\"].str.contains(\"PreCast\") \\\n",
    "    | train[\"construction-exterior-2\"].str.contains(\"Plywood\")\n",
    "\n",
    "train[\"siding-brick\"] = \\\n",
    "    train[\"construction-exterior-1\"].str.contains(\"BrkComm\") \\\n",
    "    | train[\"construction-exterior-1\"].str.contains(\"BrkFace\") \\\n",
    "    | train[\"construction-exterior-2\"].str.contains(\"BrkComm\") \\\n",
    "    | train[\"construction-exterior-2\"].str.contains(\"BrkFace\")\n",
    "\n",
    "train[\"siding-natural\"] = \\\n",
    "    train[\"construction-exterior-1\"].str.contains(\"Stone\") \\\n",
    "    | train[\"construction-exterior-1\"].str.contains(\"Stucco\") \\\n",
    "    | train[\"construction-exterior-1\"].str.contains(\"Wd Sdng\") \\\n",
    "    | train[\"construction-exterior-1\"].str.contains(\"WdShing\") \\\n",
    "    | train[\"construction-exterior-2\"].str.contains(\"Stone\") \\\n",
    "    | train[\"construction-exterior-2\"].str.contains(\"Stucco\") \\\n",
    "    | train[\"construction-exterior-2\"].str.contains(\"Wd Sdng\") \\\n",
    "    | train[\"construction-exterior-2\"].str.contains(\"WdShing\")\n",
    "\n",
    "train[\"siding-durable\"] = \\\n",
    "    train[\"construction-exterior-1\"].str.contains(\"CemntBd\") \\\n",
    "    | train[\"construction-exterior-1\"].str.contains(\"HdBoard\") \\\n",
    "    | train[\"construction-exterior-1\"].str.contains(\"ImStucc\") \\\n",
    "    | train[\"construction-exterior-1\"].str.contains(\"MetalSd\") \\\n",
    "    | train[\"construction-exterior-1\"].str.contains(\"VinylSd\") \\\n",
    "    | train[\"construction-exterior-2\"].str.contains(\"CemntBd\") \\\n",
    "    | train[\"construction-exterior-2\"].str.contains(\"HdBoard\") \\\n",
    "    | train[\"construction-exterior-2\"].str.contains(\"ImStucc\") \\\n",
    "    | train[\"construction-exterior-2\"].str.contains(\"MetalSd\") \\\n",
    "    | train[\"construction-exterior-2\"].str.contains(\"VinylSd\")\n",
    "\n",
    "\n",
    "test[\"siding-unfinished\"] = \\\n",
    "    test[\"construction-exterior-1\"].str.contains(\"CBlock\") \\\n",
    "    | test[\"construction-exterior-1\"].str.contains(\"Other\") \\\n",
    "    | test[\"construction-exterior-1\"].str.contains(\"PreCast\") \\\n",
    "    | test[\"construction-exterior-1\"].str.contains(\"Plywood\") \\\n",
    "    | test[\"construction-exterior-2\"].str.contains(\"CBlock\") \\\n",
    "    | test[\"construction-exterior-2\"].str.contains(\"Other\") \\\n",
    "    | test[\"construction-exterior-2\"].str.contains(\"PreCast\") \\\n",
    "    | test[\"construction-exterior-2\"].str.contains(\"Plywood\")\n",
    "\n",
    "test[\"siding-brick\"] = \\\n",
    "    test[\"construction-exterior-1\"].str.contains(\"BrkComm\") \\\n",
    "    | test[\"construction-exterior-1\"].str.contains(\"BrkFace\") \\\n",
    "    | test[\"construction-exterior-2\"].str.contains(\"BrkComm\") \\\n",
    "    | test[\"construction-exterior-2\"].str.contains(\"BrkFace\")\n",
    "\n",
    "test[\"siding-natural\"] = \\\n",
    "    test[\"construction-exterior-1\"].str.contains(\"Stone\") \\\n",
    "    | test[\"construction-exterior-1\"].str.contains(\"Stucco\") \\\n",
    "    | test[\"construction-exterior-1\"].str.contains(\"Wd Sdng\") \\\n",
    "    | test[\"construction-exterior-1\"].str.contains(\"WdShing\") \\\n",
    "    | test[\"construction-exterior-2\"].str.contains(\"Stone\") \\\n",
    "    | test[\"construction-exterior-2\"].str.contains(\"Stucco\") \\\n",
    "    | test[\"construction-exterior-2\"].str.contains(\"Wd Sdng\") \\\n",
    "    | test[\"construction-exterior-2\"].str.contains(\"WdShing\")\n",
    "\n",
    "test[\"siding-durable\"] = \\\n",
    "    test[\"construction-exterior-1\"].str.contains(\"CemntBd\") \\\n",
    "    | test[\"construction-exterior-1\"].str.contains(\"HdBoard\") \\\n",
    "    | test[\"construction-exterior-1\"].str.contains(\"ImStucc\") \\\n",
    "    | test[\"construction-exterior-1\"].str.contains(\"MetalSd\") \\\n",
    "    | test[\"construction-exterior-1\"].str.contains(\"VinylSd\") \\\n",
    "    | test[\"construction-exterior-2\"].str.contains(\"CemntBd\") \\\n",
    "    | test[\"construction-exterior-2\"].str.contains(\"HdBoard\") \\\n",
    "    | test[\"construction-exterior-2\"].str.contains(\"ImStucc\") \\\n",
    "    | test[\"construction-exterior-2\"].str.contains(\"MetalSd\") \\\n",
    "    | test[\"construction-exterior-2\"].str.contains(\"VinylSd\")\n",
    "\n",
    "string_columns.append(\"construction-exterior-1\")\n",
    "string_columns.append(\"construction-exterior-2\")\n",
    "\n",
    "# train = train.drop([\"construction-exterior-1\", \"construction-exterior-2\"], axis=\"columns\")\n",
    "# test = test.drop([\"construction-exterior-1\", \"construction-exterior-2\"], axis=\"columns\")"
   ]
  },
  {
   "cell_type": "code",
   "execution_count": 64,
   "metadata": {},
   "outputs": [],
   "source": [
    "train[\"roof-modern\"] = \\\n",
    "    train[\"construction-roof-material\"].str.contains(\"CompShg\")\n",
    "test[\"roof-modern\"] = \\\n",
    "    test[\"construction-roof-material\"].str.contains(\"CompShg\")\n",
    "\n",
    "string_columns.append(\"construction-roof-material\")\n",
    "\n",
    "# train = train.drop(\"construction-roof-material\", axis=\"columns\")\n",
    "# test = test.drop(\"construction-roof-material\", axis=\"columns\")"
   ]
  },
  {
   "cell_type": "code",
   "execution_count": 65,
   "metadata": {},
   "outputs": [],
   "source": [
    "# train[\"exterior-condition\"] = \\\n",
    "#     train[\"ratings-exterior-condition\"].map(QUALITY_MAP)\n",
    "# test[\"exterior-condition\"] = \\\n",
    "#     test[\"ratings-exterior-condition\"].map(QUALITY_MAP)\n",
    "\n",
    "# string_columns.append(\"ratings-exterior-condition\")"
   ]
  },
  {
   "cell_type": "code",
   "execution_count": 66,
   "metadata": {},
   "outputs": [],
   "source": [
    "# train[\"exterior-quality\"] = \\\n",
    "#     train[\"ratings-exterior-quality\"].map(QUALITY_MAP)\n",
    "# test[\"exterior-quality\"] = \\\n",
    "#     test[\"ratings-exterior-quality\"].map(QUALITY_MAP)\n",
    "\n",
    "# string_columns.append(\"ratings-exterior-quality\")"
   ]
  },
  {
   "cell_type": "markdown",
   "metadata": {},
   "source": [
    "lot-fence-material\n",
    "* fence-quality"
   ]
  },
  {
   "cell_type": "code",
   "execution_count": 67,
   "metadata": {},
   "outputs": [],
   "source": [
    "train[\"fence-quality\"] = train[\"lot-fence-material\"].map(FENCE_MAP)\n",
    "test[\"fence-quality\"] = train[\"lot-fence-material\"].map(FENCE_MAP)\n",
    "\n",
    "string_columns.append(\"lot-fence-material\")"
   ]
  },
  {
   "cell_type": "markdown",
   "metadata": {},
   "source": [
    "Lot misc feature\n",
    "* shed\n",
    "* tennis-court\n",
    "* second-garage"
   ]
  },
  {
   "cell_type": "code",
   "execution_count": 68,
   "metadata": {},
   "outputs": [],
   "source": [
    "train[\"shed\"] = train[\"lot-misc-feature\"].str.contains(\"Shed\")\n",
    "train[\"tennis-court\"] = train[\"lot-misc-feature\"].str.contains(\"TenC\")\n",
    "train[\"second-garage\"] = train[\"lot-misc-feature\"].str.contains(\"Gar2\")\n",
    "\n",
    "test[\"shed\"] = test[\"lot-misc-feature\"].str.contains(\"Shed\")\n",
    "test[\"tennis-court\"] = test[\"lot-misc-feature\"].str.contains(\"TenC\")\n",
    "test[\"second-garage\"] = test[\"lot-misc-feature\"].str.contains(\"Gar2\")\n",
    "\n",
    "string_columns.append(\"lot-misc-feature\")"
   ]
  },
  {
   "cell_type": "code",
   "execution_count": 69,
   "metadata": {},
   "outputs": [],
   "source": [
    "ratings_columns = \\\n",
    "    [\"exterior-condition\", \"exterior-quality\",\n",
    "     \"basement-quality\", \"basement-condition\", \n",
    "     \"heating-combined\", \"kitchen-quality\", \n",
    "     \"garage-quality\", \"garage-condition\",\n",
    "     \"fireplace-quality\", \"pool-combined\"]\n",
    "\n",
    "for col in ratings_columns:\n",
    "    train[col] = \\\n",
    "        train[\"ratings-\" + col].map(QUALITY_MAP)\n",
    "    test[col] = \\\n",
    "        test[\"ratings-\" + col].map(QUALITY_MAP)\n",
    "\n",
    "    string_columns.append(\"ratings-\" + col)    \n"
   ]
  },
  {
   "cell_type": "code",
   "execution_count": 70,
   "metadata": {},
   "outputs": [],
   "source": [
    "train[\"home-functionality\"] = \\\n",
    "    train[\"ratings-home-functionality\"].map(FUNCTIONALITY_MAP)\n",
    "\n",
    "test[\"home-functionality\"] = \\\n",
    "    test[\"ratings-home-functionality\"].map(FUNCTIONALITY_MAP)\n",
    "\n",
    "string_columns.append(\"ratings-home-functionality\")"
   ]
  },
  {
   "cell_type": "code",
   "execution_count": 71,
   "metadata": {},
   "outputs": [],
   "source": [
    "# train = train.drop([\"construction-roof-style\", \"construction-masonry-type\"], axis=\"columns\")\n",
    "# test = test.drop([\"construction-roof-style\", \"construction-masonry-type\"], axis=\"columns\")\n",
    "unused_columns.append(\"construction-roof-style\")\n",
    "unused_columns.append(\"construction-masonry-type\")"
   ]
  },
  {
   "cell_type": "markdown",
   "metadata": {},
   "source": [
    "Basement finish information:\n",
    "* basement-unfinished\n",
    "* basement-bedroom\n",
    "* basement-rec-room"
   ]
  },
  {
   "cell_type": "code",
   "execution_count": 72,
   "metadata": {},
   "outputs": [],
   "source": [
    "train[\"basement-unfinished\"] = \\\n",
    "    train[\"construction-basement-finish-1\"].str.contains(\"Unf\") \\\n",
    "    | train[\"construction-basement-finish-2\"].str.contains(\"Unf\")\n",
    "\n",
    "train[\"basement-bedroom\"] = \\\n",
    "    train[\"construction-basement-finish-1\"].str.contains(\"LQ\") \\\n",
    "    | train[\"construction-basement-finish-1\"].str.contains(\"LwQ\") \\\n",
    "    | train[\"construction-basement-finish-2\"].str.contains(\"LQ\") \\\n",
    "    | train[\"construction-basement-finish-2\"].str.contains(\"LwQ\")\n",
    "\n",
    "train[\"basement-rec-room\"] = \\\n",
    "    train[\"construction-basement-finish-1\"].str.contains(\"Rec\") \\\n",
    "    | train[\"construction-basement-finish-2\"].str.contains(\"Rec\")\n",
    "\n",
    "\n",
    "test[\"basement-unfinished\"] = \\\n",
    "    test[\"construction-basement-finish-1\"].str.contains(\"Unf\") \\\n",
    "    | test[\"construction-basement-finish-2\"].str.contains(\"Unf\")\n",
    "\n",
    "test[\"basement-bedroom\"] = \\\n",
    "    test[\"construction-basement-finish-1\"].str.contains(\"LQ\") \\\n",
    "    | test[\"construction-basement-finish-1\"].str.contains(\"LwQ\") \\\n",
    "    | test[\"construction-basement-finish-2\"].str.contains(\"LQ\") \\\n",
    "    | test[\"construction-basement-finish-2\"].str.contains(\"LwQ\")\n",
    "\n",
    "test[\"basement-rec-room\"] = \\\n",
    "    test[\"construction-basement-finish-1\"].str.contains(\"Rec\") \\\n",
    "    | test[\"construction-basement-finish-2\"].str.contains(\"Rec\")\n",
    "\n",
    "string_columns.append(\"construction-basement-finish-1\")\n",
    "string_columns.append(\"construction-basement-finish-2\")\n",
    "\n",
    "# train = \\\n",
    "#     train.drop([\"construction-basement-finish-1\", \"construction-basement-finish-2\"],\n",
    "#                axis=\"columns\")\n",
    "\n",
    "# test = \\\n",
    "#     test.drop([\"construction-basement-finish-1\", \"construction-basement-finish-2\"],\n",
    "#                axis=\"columns\")"
   ]
  },
  {
   "cell_type": "markdown",
   "metadata": {},
   "source": [
    "Foundation type information:\n",
    "* foundation-modern"
   ]
  },
  {
   "cell_type": "code",
   "execution_count": 73,
   "metadata": {},
   "outputs": [],
   "source": [
    "train[\"foundation-modern\"] = \\\n",
    "    train[\"construction-foundation-type\"].str.contains(\"PConc\") \\\n",
    "    | train[\"construction-foundation-type\"].str.contains(\"CBlock\")\n",
    "\n",
    "test[\"foundation-modern\"] = \\\n",
    "    test[\"construction-foundation-type\"].str.contains(\"PConc\") \\\n",
    "    | test[\"construction-foundation-type\"].str.contains(\"CBlock\")\n",
    "\n",
    "string_columns.append(\"construction-foundation-type\")\n",
    "\n",
    "# train = train.drop(\"construction-foundation-type\", axis=\"columns\")\n",
    "# test = test.drop(\"construction-foundation-type\", axis=\"columns\")"
   ]
  },
  {
   "cell_type": "markdown",
   "metadata": {},
   "source": [
    "Heating type information:\n",
    "* heating-gas"
   ]
  },
  {
   "cell_type": "code",
   "execution_count": 74,
   "metadata": {},
   "outputs": [],
   "source": [
    "train[\"heating-gas\"] = \\\n",
    "    train[\"utilities-heating-type\"].str.contains(\"Gas\")\n",
    "test[\"heating-gas\"] = \\\n",
    "    test[\"utilities-heating-type\"].str.contains(\"Gas\")\n",
    "\n",
    "string_columns.append(\"utilities-heating-type\")\n",
    "\n",
    "# train = train.drop(\"utilities-heating-type\", axis=\"columns\")\n",
    "# test = test.drop(\"utilities-heating-type\", axis=\"columns\")"
   ]
  },
  {
   "cell_type": "code",
   "execution_count": 75,
   "metadata": {},
   "outputs": [],
   "source": [
    "train[\"central-air-conditioning\"] = \\\n",
    "    train[\"utilities-central-air-conditioning\"].str.contains(\"Y\")\n",
    "test[\"central-air-conditioning\"] = \\\n",
    "    test[\"utilities-central-air-conditioning\"].str.contains(\"Y\")\n",
    "\n",
    "string_columns.append(\"utilities-central-air-conditioning\")\n",
    "\n",
    "# train = train.drop(\"utilities-central-air-conditioning\", axis=\"columns\")\n",
    "# test = test.drop(\"utilities-central-air-conditioning\", axis=\"columns\")"
   ]
  },
  {
   "cell_type": "code",
   "execution_count": 76,
   "metadata": {},
   "outputs": [],
   "source": [
    "train[\"electric-modern\"] = \\\n",
    "    train[\"utilities-electrical-wiring-type\"].str.contains(\"SBrkr\")\n",
    "test[\"electric-modern\"] = \\\n",
    "    test[\"utilities-electrical-wiring-type\"].str.contains(\"SBrkr\")\n",
    "\n",
    "string_columns.append(\"utilities-electrical-wiring-type\")\n",
    "\n",
    "# train = train.drop(\"utilities-electrical-wiring-type\", axis=\"columns\")\n",
    "# test = test.drop(\"utilities-electrical-wiring-type\", axis=\"columns\")"
   ]
  },
  {
   "cell_type": "code",
   "execution_count": 77,
   "metadata": {},
   "outputs": [],
   "source": [
    "train[\"garage-dettached\"] = \\\n",
    "    train[\"garage-location\"].str.contains(\"Detchd\")\n",
    "test[\"garage-dettached\"] = \\\n",
    "    test[\"garage-location\"].str.contains(\"Detchd\")\n",
    "\n",
    "string_columns.append(\"garage-location\")\n",
    "\n",
    "# train = train.drop(\"garage-location\", axis=\"columns\")\n",
    "# test = test.drop(\"garage-location\", axis=\"columns\")"
   ]
  },
  {
   "cell_type": "code",
   "execution_count": 78,
   "metadata": {},
   "outputs": [],
   "source": [
    "train[\"garage-finished\"] = \\\n",
    "    train[\"garage-finish\"].str.contains(\"Fin\")\n",
    "test[\"garage-finished\"] = \\\n",
    "    test[\"garage-finish\"].str.contains(\"Fin\")\n",
    "\n",
    "string_columns.append(\"garage-finish\")\n",
    "\n",
    "# train = train.drop(\"garage-finish\", axis=\"columns\")\n",
    "# test = test.drop(\"garage-finish\", axis=\"columns\")"
   ]
  },
  {
   "cell_type": "code",
   "execution_count": 79,
   "metadata": {},
   "outputs": [],
   "source": [
    "train[\"driveway-paved\"] = \\\n",
    "    train[\"roads-driveway-material\"].str.contains(\"Y\")\n",
    "test[\"driveway-paved\"] = \\\n",
    "    test[\"roads-driveway-material\"].str.contains(\"Y\")\n",
    "\n",
    "string_columns.append(\"roads-driveway-material\")\n",
    "\n",
    "# train = train.drop(\"roads-driveway-material\", axis=\"columns\")\n",
    "# test = test.drop(\"roads-driveway-material\", axis=\"columns\")"
   ]
  },
  {
   "cell_type": "code",
   "execution_count": null,
   "metadata": {},
   "outputs": [],
   "source": []
  },
  {
   "cell_type": "markdown",
   "metadata": {},
   "source": [
    "Sale type information:\n",
    "* new-construction\n",
    "* cash-sale"
   ]
  },
  {
   "cell_type": "code",
   "execution_count": 80,
   "metadata": {},
   "outputs": [],
   "source": [
    "train[\"new-construction\"] = \\\n",
    "    train[\"general-sale-type\"].str.contains(\"New\")\n",
    "test[\"new-construction\"] = \\\n",
    "    test[\"general-sale-type\"].str.contains(\"New\")\n",
    "\n",
    "train[\"cash-sale\"] = \\\n",
    "    train[\"general-sale-type\"].str.contains(\"CWD\")\n",
    "test[\"cash-sale\"] = \\\n",
    "    test[\"general-sale-type\"].str.contains(\"CWD\")\n",
    "\n",
    "string_columns.append(\"general-sale-type\")\n",
    "\n",
    "# train = train.drop(\"general-sale-type\", axis=\"columns\")\n",
    "# test = test.drop(\"general-sale-type\", axis=\"columns\")"
   ]
  },
  {
   "cell_type": "markdown",
   "metadata": {},
   "source": [
    "Sale condition information\n",
    "* normal-sale\n",
    "* family-sale"
   ]
  },
  {
   "cell_type": "code",
   "execution_count": 81,
   "metadata": {},
   "outputs": [],
   "source": [
    "train[\"normal-sale\"] = \\\n",
    "    train[\"general-sale-condition\"].str.contains(\"Normal\")\n",
    "train[\"family-sale\"] = \\\n",
    "    train[\"general-sale-condition\"].str.contains(\"Family\")\n",
    "\n",
    "test[\"normal-sale\"] = \\\n",
    "    test[\"general-sale-condition\"].str.contains(\"Normal\")\n",
    "test[\"family-sale\"] = \\\n",
    "    test[\"general-sale-condition\"].str.contains(\"Family\")\n",
    "\n",
    "string_columns.append(\"general-sale-condition\")"
   ]
  },
  {
   "cell_type": "code",
   "execution_count": 82,
   "metadata": {},
   "outputs": [],
   "source": [
    "train[\"basement-access\"] = \\\n",
    "    train[\"construction-basement-access\"].map(EXPOSURE_MAP)\n",
    "test[\"basement-access\"] = \\\n",
    "    test[\"construction-basement-access\"].map(EXPOSURE_MAP)\n",
    "\n",
    "string_columns.append(\"construction-basement-access\")"
   ]
  },
  {
   "cell_type": "code",
   "execution_count": 83,
   "metadata": {},
   "outputs": [],
   "source": [
    "train[\"location-region\"] = train[\"location-neighborhood\"].map(REGION_MAP)\n",
    "test[\"location-region\"] = test[\"location-neighborhood\"].map(REGION_MAP)"
   ]
  },
  {
   "cell_type": "code",
   "execution_count": 84,
   "metadata": {},
   "outputs": [],
   "source": [
    "train_region_dummies = pd.get_dummies(train[\"location-region\"])\n",
    "train_neighborhood_dummies = pd.get_dummies(train[\"location-neighborhood\"])\n",
    "\n",
    "test_region_dummies = pd.get_dummies(test[\"location-region\"])\n",
    "test_neighborhood_dummies = pd.get_dummies(test[\"location-neighborhood\"])\n",
    "\n",
    "train = pd.concat([train, train_region_dummies, train_neighborhood_dummies], axis=\"columns\")\n",
    "test = pd.concat([test, test_region_dummies, test_neighborhood_dummies], axis=\"columns\")\n",
    "\n",
    "string_columns.append(\"location-region\")\n",
    "string_columns.append(\"location-neighborhood\")"
   ]
  },
  {
   "cell_type": "code",
   "execution_count": 85,
   "metadata": {},
   "outputs": [],
   "source": [
    "lot_cols = [\"lot-shape\", \"lot-flatness\", \"lot-access\", \"lot-slope\"]\n",
    "for col in lot_cols:\n",
    "    string_columns.append(col) "
   ]
  },
  {
   "cell_type": "code",
   "execution_count": 86,
   "metadata": {},
   "outputs": [],
   "source": [
    "string_columns.append(\"id\")\n",
    "unused_columns.append(\"id\")\n",
    "\n",
    "train_strings = train[string_columns]\n",
    "train_unused = train[unused_columns]\n",
    "\n",
    "test_strings = test[string_columns]\n",
    "test_unused = test[unused_columns]\n",
    "\n",
    "string_columns.remove(\"id\")\n",
    "unused_columns.remove(\"id\")\n",
    "\n",
    "train = train \\\n",
    "    .drop(string_columns, axis=\"columns\") \\\n",
    "    .drop(unused_columns, axis=\"columns\")\n",
    "\n",
    "test = test \\\n",
    "    .drop(string_columns, axis=\"columns\") \\\n",
    "    .drop(unused_columns, axis=\"columns\")"
   ]
  },
  {
   "cell_type": "code",
   "execution_count": 87,
   "metadata": {},
   "outputs": [
    {
     "name": "stdout",
     "output_type": "stream",
     "text": [
      "The following columns contain NaN values:\n",
      "garage-build-year contains 81 nan values\n",
      "shed contains 1406 nan values\n",
      "tennis-court contains 1406 nan values\n",
      "second-garage contains 1406 nan values\n",
      "basement-quality contains 37 nan values\n",
      "basement-condition contains 37 nan values\n",
      "garage-quality contains 81 nan values\n",
      "garage-condition contains 81 nan values\n",
      "fireplace-quality contains 690 nan values\n",
      "pool-combined contains 1453 nan values\n",
      "garage-dettached contains 81 nan values\n",
      "garage-finished contains 81 nan values\n",
      "basement-access contains 38 nan values\n"
     ]
    }
   ],
   "source": [
    "print(\"The following columns contain NaN values:\")\n",
    "for col in train.columns:\n",
    "    if train[col].isna().sum() > 0:\n",
    "        print(f\"{col} contains {train[col].isna().sum()} nan values\")"
   ]
  },
  {
   "cell_type": "markdown",
   "metadata": {},
   "source": [
    "### Managing NaN's\n",
    "Fill NaN with False\n",
    "* tennis-court\n",
    "* shed\n",
    "* second-garage\n",
    "* garage-finished\n",
    "\n",
    "Check if NaN should be filled with True or False\n",
    "* garage-dettached\n",
    "\n",
    "Fill NaN with mean\n",
    "* basement-quality\n",
    "* basement-condition\n",
    "* garage-quality\n",
    "* garage-condition\n",
    "* fireplace-quality\n",
    "* pool-combined\n",
    "* basement-access"
   ]
  },
  {
   "cell_type": "code",
   "execution_count": 88,
   "metadata": {},
   "outputs": [],
   "source": [
    "fill_false = [\"tennis-court\", \"shed\", \"second-garage\", \"garage-finished\", \"garage-dettached\"]\n",
    "for col in fill_false:\n",
    "    train[col] = train[col].fillna(value=False)\n",
    "    test[col] = test[col].fillna(value=False)\n",
    "\n",
    "fill_mean = [\"basement-quality\", \"basement-condition\", \"garage-quality\", \"garage-condition\", \"fireplace-quality\", \"pool-combined\", \"basement-access\", \"garage-build-year\"]\n",
    "for col in fill_mean:\n",
    "    train[col] = train[col].fillna(\n",
    "        value=train[col].mean())\n",
    "    test[col] = test[col].fillna(\n",
    "        value=test[col].mean())"
   ]
  },
  {
   "cell_type": "code",
   "execution_count": 89,
   "metadata": {},
   "outputs": [
    {
     "name": "stdout",
     "output_type": "stream",
     "text": [
      "The following columns contain NaN values:\n"
     ]
    }
   ],
   "source": [
    "print(\"The following columns contain NaN values:\")\n",
    "for col in train.columns:\n",
    "    if train[col].isna().sum() > 0:\n",
    "        print(f\"{col} contains {train[col].isna().sum()} nan values\")"
   ]
  },
  {
   "cell_type": "code",
   "execution_count": 90,
   "metadata": {},
   "outputs": [],
   "source": [
    "train = train.drop(\"Unnamed: 0\", axis=\"columns\")\n",
    "test = test.drop(\"Unnamed: 0\", axis=\"columns\")"
   ]
  },
  {
   "cell_type": "code",
   "execution_count": 91,
   "metadata": {},
   "outputs": [],
   "source": [
    "train.to_csv(PROJECT_ROOT+\"/data/processed/primary-engineering/train-engineered.csv\")\n",
    "train_strings.to_csv(PROJECT_ROOT+\"/data/processed/primary-engineering/residual/train-string-columns.csv\")\n",
    "train_unused.to_csv(PROJECT_ROOT+\"/data/processed/primary-engineering/residual/train-unused-columns.csv\")\n",
    "\n",
    "test.to_csv(PROJECT_ROOT+\"/data/processed/primary-engineering/test-engineered.csv\")\n",
    "test_strings.to_csv(PROJECT_ROOT+\"/data/processed/primary-engineering/residual/test-string-columns.csv\")\n",
    "test_unused.to_csv(PROJECT_ROOT+\"/data/processed/primary-engineering/residual/test-unused-columns.csv\")"
   ]
  }
 ],
 "metadata": {
  "kernelspec": {
   "display_name": "ames-housing",
   "language": "python",
   "name": "python3"
  },
  "language_info": {
   "codemirror_mode": {
    "name": "ipython",
    "version": 3
   },
   "file_extension": ".py",
   "mimetype": "text/x-python",
   "name": "python",
   "nbconvert_exporter": "python",
   "pygments_lexer": "ipython3",
   "version": "3.11.3"
  },
  "orig_nbformat": 4
 },
 "nbformat": 4,
 "nbformat_minor": 2
}
