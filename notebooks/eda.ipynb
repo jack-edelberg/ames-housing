{
 "cells": [
  {
   "attachments": {},
   "cell_type": "markdown",
   "metadata": {},
   "source": [
    "Jack Kolberg-Edelbrock\n",
    "\n",
    "EDA - Ames Housing Data"
   ]
  },
  {
   "cell_type": "code",
   "execution_count": 3,
   "metadata": {},
   "outputs": [],
   "source": [
    "import os\n",
    "import sys\n",
    "\n",
    "PROJECT_ROOT = \\\n",
    "    os.path.abspath(os.path.join(\n",
    "        os.path.dirname(\"\"),\n",
    "        os.pardir))\n",
    "\n",
    "sys.path.append(PROJECT_ROOT)"
   ]
  },
  {
   "cell_type": "code",
   "execution_count": 1,
   "metadata": {},
   "outputs": [],
   "source": [
    "import pandas as pd\n",
    "import numpy as np"
   ]
  },
  {
   "cell_type": "code",
   "execution_count": 4,
   "metadata": {},
   "outputs": [],
   "source": [
    "train = pd.read_csv(PROJECT_ROOT + \"/data/interim/train-cleaned.csv\")\n",
    "test = pd.read_csv(PROJECT_ROOT + \"/data/interim/test-cleaned.csv\")"
   ]
  },
  {
   "cell_type": "code",
   "execution_count": 8,
   "metadata": {},
   "outputs": [
    {
     "name": "stdout",
     "output_type": "stream",
     "text": [
      "<class 'pandas.core.frame.DataFrame'>\n",
      "RangeIndex: 1460 entries, 0 to 1459\n",
      "Data columns (total 82 columns):\n",
      " #   Column                                 Non-Null Count  Dtype  \n",
      "---  ------                                 --------------  -----  \n",
      " 0   Unnamed: 0                             1460 non-null   int64  \n",
      " 1   id                                     1460 non-null   int64  \n",
      " 2   ms-subclass                            1460 non-null   object \n",
      " 3   ms-zoning                              1460 non-null   object \n",
      " 4   lot-frontage                           1460 non-null   int64  \n",
      " 5   lot-area                               1460 non-null   int64  \n",
      " 6   roads-street-material                  1460 non-null   object \n",
      " 7   roads-alley-material                   1460 non-null   object \n",
      " 8   lot-shape                              1460 non-null   object \n",
      " 9   lot-flatness                           1460 non-null   object \n",
      " 10  utilities-city-provided                1460 non-null   object \n",
      " 11  lot-access                             1460 non-null   object \n",
      " 12  lot-slope                              1460 non-null   object \n",
      " 13  location-neighborhood                  1460 non-null   object \n",
      " 14  location-feature-1                     1460 non-null   object \n",
      " 15  location-feature-2                     1460 non-null   object \n",
      " 16  general-dwelling-type                  1460 non-null   object \n",
      " 17  construction-style                     1460 non-null   object \n",
      " 18  ratings-overall-quality                1460 non-null   int64  \n",
      " 19  ratings-overall-condition              1460 non-null   int64  \n",
      " 20  general-build-year                     1460 non-null   int64  \n",
      " 21  general-remodel-year                   1460 non-null   int64  \n",
      " 22  construction-roof-style                1460 non-null   object \n",
      " 23  construction-roof-material             1460 non-null   object \n",
      " 24  construction-exterior-1                1460 non-null   object \n",
      " 25  construction-exterior-2                1460 non-null   object \n",
      " 26  construction-masonry-type              1460 non-null   object \n",
      " 27  area-masonry-veneer                    1460 non-null   int64  \n",
      " 28  ratings-exterior-quality               1460 non-null   object \n",
      " 29  ratings-exterior-condition             1460 non-null   object \n",
      " 30  construction-foundation-type           1460 non-null   object \n",
      " 31  ratings-basement-quality               1423 non-null   object \n",
      " 32  ratings-basement-condition             1423 non-null   object \n",
      " 33  construction-basement-access           1422 non-null   object \n",
      " 34  construction-basement-finish-1         1423 non-null   object \n",
      " 35  area-basement-finished-1               1460 non-null   int64  \n",
      " 36  construction-basement-finish-2         1422 non-null   object \n",
      " 37  area-basement-finished-2               1460 non-null   int64  \n",
      " 38  area-basement-unfinished               1460 non-null   int64  \n",
      " 39  area-basement-total                    1460 non-null   int64  \n",
      " 40  utilities-heating-type                 1460 non-null   object \n",
      " 41  ratings-heating-combined               1460 non-null   object \n",
      " 42  utilities-central-air-conditioning     1460 non-null   object \n",
      " 43  utilities-electrical-wiring-type       1460 non-null   object \n",
      " 44  area-floor-1                           1460 non-null   int64  \n",
      " 45  area-floor-2                           1460 non-null   int64  \n",
      " 46  general-total-poor-finish-area         1460 non-null   int64  \n",
      " 47  area-above-grade-living                1460 non-null   int64  \n",
      " 48  general-number-basement-full-baths     1460 non-null   int64  \n",
      " 49  general-number-basement-half-baths     1460 non-null   int64  \n",
      " 50  general-number-nonbasement-full-baths  1460 non-null   int64  \n",
      " 51  general-number-nonbasement-half-baths  1460 non-null   int64  \n",
      " 52  general-number-nonbasement-bedrooms    1460 non-null   int64  \n",
      " 53  general-number-kitchens                1460 non-null   int64  \n",
      " 54  ratings-kitchen-quality                1460 non-null   object \n",
      " 55  general-number-nonbasement-rooms       1460 non-null   int64  \n",
      " 56  ratings-home-functionality             1460 non-null   object \n",
      " 57  general-number-fireplaces              1460 non-null   int64  \n",
      " 58  ratings-fireplace-quality              770 non-null    object \n",
      " 59  garage-location                        1379 non-null   object \n",
      " 60  garage-build-year                      1379 non-null   float64\n",
      " 61  garage-finish                          1379 non-null   object \n",
      " 62  general-number-garage-spots            1460 non-null   int64  \n",
      " 63  area-garage                            1460 non-null   int64  \n",
      " 64  ratings-garage-quality                 1379 non-null   object \n",
      " 65  ratings-garage-condition               1379 non-null   object \n",
      " 66  roads-driveway-material                1460 non-null   object \n",
      " 67  area-wood-deck                         1460 non-null   int64  \n",
      " 68  area-open-porch                        1460 non-null   int64  \n",
      " 69  area-closed-porch                      1460 non-null   int64  \n",
      " 70  area-three-season                      1460 non-null   int64  \n",
      " 71  area-screen-porch                      1460 non-null   int64  \n",
      " 72  area-pool                              1460 non-null   int64  \n",
      " 73  ratings-pool-combined                  7 non-null      object \n",
      " 74  lot-fence-material                     281 non-null    object \n",
      " 75  lot-misc-feature                       54 non-null     object \n",
      " 76  lot-misc-value                         1460 non-null   int64  \n",
      " 77  general-month-sold                     1460 non-null   int64  \n",
      " 78  general-year-sold                      1460 non-null   int64  \n",
      " 79  general-sale-type                      1460 non-null   object \n",
      " 80  general-sale-condition                 1460 non-null   object \n",
      " 81  sale-price                             1460 non-null   int64  \n",
      "dtypes: float64(1), int64(37), object(44)\n",
      "memory usage: 935.4+ KB\n"
     ]
    }
   ],
   "source": [
    "train.info()"
   ]
  }
 ],
 "metadata": {
  "kernelspec": {
   "display_name": "ames-housing",
   "language": "python",
   "name": "python3"
  },
  "language_info": {
   "codemirror_mode": {
    "name": "ipython",
    "version": 3
   },
   "file_extension": ".py",
   "mimetype": "text/x-python",
   "name": "python",
   "nbconvert_exporter": "python",
   "pygments_lexer": "ipython3",
   "version": "3.11.3"
  },
  "orig_nbformat": 4
 },
 "nbformat": 4,
 "nbformat_minor": 2
}
