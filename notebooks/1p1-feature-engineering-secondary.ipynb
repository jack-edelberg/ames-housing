{
 "cells": [
  {
   "cell_type": "code",
   "execution_count": 17,
   "metadata": {},
   "outputs": [],
   "source": [
    "import os\n",
    "import sys\n",
    "\n",
    "PROJECT_ROOT = \\\n",
    "    os.path.abspath(os.path.join(\n",
    "        os.path.dirname(\"\"),\n",
    "        os.pardir))\n",
    "\n",
    "sys.path.append(PROJECT_ROOT)"
   ]
  },
  {
   "cell_type": "code",
   "execution_count": 18,
   "metadata": {},
   "outputs": [],
   "source": [
    "import pandas as pd\n",
    "import numpy as np"
   ]
  },
  {
   "cell_type": "code",
   "execution_count": 19,
   "metadata": {},
   "outputs": [],
   "source": [
    "train = pd.read_csv(PROJECT_ROOT + \"/data/processed/primary-engineering/train-engineered.csv\")\n",
    "test = pd.read_csv(PROJECT_ROOT + \"/data/processed/primary-engineering/test-engineered.csv\")"
   ]
  },
  {
   "cell_type": "code",
   "execution_count": 20,
   "metadata": {},
   "outputs": [
    {
     "data": {
      "text/plain": [
       "tennis-court\n",
       "False    1459\n",
       "True        1\n",
       "Name: count, dtype: int64"
      ]
     },
     "execution_count": 20,
     "metadata": {},
     "output_type": "execute_result"
    }
   ],
   "source": [
    "train[\"tennis-court\"].value_counts(dropna=False)"
   ]
  },
  {
   "cell_type": "markdown",
   "metadata": {},
   "source": [
    "## Building age\n",
    "There are several columns that represent the age of the building. The construction year, the remodel year, and if the building is \"new construction\". I believe that the remodel year is less important than the \"time-since-remodel\""
   ]
  },
  {
   "cell_type": "code",
   "execution_count": 21,
   "metadata": {},
   "outputs": [],
   "source": [
    "train[\"general-years-since-remodel\"] = 2010 - train[\"general-remodel-year\"]\n",
    "test[\"general-years-since-remodel\"] = 2010 - test[\"general-remodel-year\"]"
   ]
  },
  {
   "cell_type": "code",
   "execution_count": 22,
   "metadata": {},
   "outputs": [],
   "source": [
    "train.to_csv(PROJECT_ROOT + \"/data/processed/secondary-engineering/train-engineered-secondary.csv\")\n",
    "test.to_csv(PROJECT_ROOT + \"/data/processed/secondary-engineering/test-engineered-secondary.csv\")"
   ]
  }
 ],
 "metadata": {
  "kernelspec": {
   "display_name": "ames-housing",
   "language": "python",
   "name": "python3"
  },
  "language_info": {
   "codemirror_mode": {
    "name": "ipython",
    "version": 3
   },
   "file_extension": ".py",
   "mimetype": "text/x-python",
   "name": "python",
   "nbconvert_exporter": "python",
   "pygments_lexer": "ipython3",
   "version": "3.11.3"
  },
  "orig_nbformat": 4
 },
 "nbformat": 4,
 "nbformat_minor": 2
}
