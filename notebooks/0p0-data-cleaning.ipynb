{
 "cells": [
  {
   "cell_type": "code",
   "execution_count": 1,
   "metadata": {},
   "outputs": [],
   "source": [
    "import os\n",
    "import sys\n",
    "\n",
    "PROJECT_ROOT = \\\n",
    "    os.path.abspath(os.path.join(\n",
    "        os.path.dirname(\"\"),\n",
    "        os.pardir))\n",
    "\n",
    "sys.path.append(PROJECT_ROOT)\n",
    "\n",
    "import pandas as pd\n",
    "import matplotlib as plt\n",
    "import seaborn as sns\n",
    "import scipy\n",
    "import numpy as np"
   ]
  },
  {
   "cell_type": "code",
   "execution_count": 2,
   "metadata": {},
   "outputs": [],
   "source": [
    "# Load in the raw data from the train and test spreadsheets\n",
    "DATA_RAW_TRAIN = pd.read_csv(PROJECT_ROOT + \"/data/raw/train.csv\")\n",
    "DATA_RAW_TEST = pd.read_csv(PROJECT_ROOT + \"/data/raw/test.csv\")\n",
    "\n",
    "train = DATA_RAW_TRAIN.copy()\n",
    "test = DATA_RAW_TEST.copy()"
   ]
  },
  {
   "cell_type": "code",
   "execution_count": 3,
   "metadata": {},
   "outputs": [
    {
     "data": {
      "text/html": [
       "<div>\n",
       "<style scoped>\n",
       "    .dataframe tbody tr th:only-of-type {\n",
       "        vertical-align: middle;\n",
       "    }\n",
       "\n",
       "    .dataframe tbody tr th {\n",
       "        vertical-align: top;\n",
       "    }\n",
       "\n",
       "    .dataframe thead th {\n",
       "        text-align: right;\n",
       "    }\n",
       "</style>\n",
       "<table border=\"1\" class=\"dataframe\">\n",
       "  <thead>\n",
       "    <tr style=\"text-align: right;\">\n",
       "      <th></th>\n",
       "      <th>Id</th>\n",
       "      <th>MSSubClass</th>\n",
       "      <th>LotFrontage</th>\n",
       "      <th>LotArea</th>\n",
       "      <th>OverallQual</th>\n",
       "      <th>OverallCond</th>\n",
       "      <th>YearBuilt</th>\n",
       "      <th>YearRemodAdd</th>\n",
       "      <th>MasVnrArea</th>\n",
       "      <th>BsmtFinSF1</th>\n",
       "      <th>...</th>\n",
       "      <th>WoodDeckSF</th>\n",
       "      <th>OpenPorchSF</th>\n",
       "      <th>EnclosedPorch</th>\n",
       "      <th>3SsnPorch</th>\n",
       "      <th>ScreenPorch</th>\n",
       "      <th>PoolArea</th>\n",
       "      <th>MiscVal</th>\n",
       "      <th>MoSold</th>\n",
       "      <th>YrSold</th>\n",
       "      <th>SalePrice</th>\n",
       "    </tr>\n",
       "  </thead>\n",
       "  <tbody>\n",
       "    <tr>\n",
       "      <th>count</th>\n",
       "      <td>1460.000000</td>\n",
       "      <td>1460.000000</td>\n",
       "      <td>1201.000000</td>\n",
       "      <td>1460.000000</td>\n",
       "      <td>1460.000000</td>\n",
       "      <td>1460.000000</td>\n",
       "      <td>1460.000000</td>\n",
       "      <td>1460.000000</td>\n",
       "      <td>1452.000000</td>\n",
       "      <td>1460.000000</td>\n",
       "      <td>...</td>\n",
       "      <td>1460.000000</td>\n",
       "      <td>1460.000000</td>\n",
       "      <td>1460.000000</td>\n",
       "      <td>1460.000000</td>\n",
       "      <td>1460.000000</td>\n",
       "      <td>1460.000000</td>\n",
       "      <td>1460.000000</td>\n",
       "      <td>1460.000000</td>\n",
       "      <td>1460.000000</td>\n",
       "      <td>1460.000000</td>\n",
       "    </tr>\n",
       "    <tr>\n",
       "      <th>mean</th>\n",
       "      <td>730.500000</td>\n",
       "      <td>56.897260</td>\n",
       "      <td>70.049958</td>\n",
       "      <td>10516.828082</td>\n",
       "      <td>6.099315</td>\n",
       "      <td>5.575342</td>\n",
       "      <td>1971.267808</td>\n",
       "      <td>1984.865753</td>\n",
       "      <td>103.685262</td>\n",
       "      <td>443.639726</td>\n",
       "      <td>...</td>\n",
       "      <td>94.244521</td>\n",
       "      <td>46.660274</td>\n",
       "      <td>21.954110</td>\n",
       "      <td>3.409589</td>\n",
       "      <td>15.060959</td>\n",
       "      <td>2.758904</td>\n",
       "      <td>43.489041</td>\n",
       "      <td>6.321918</td>\n",
       "      <td>2007.815753</td>\n",
       "      <td>180921.195890</td>\n",
       "    </tr>\n",
       "    <tr>\n",
       "      <th>std</th>\n",
       "      <td>421.610009</td>\n",
       "      <td>42.300571</td>\n",
       "      <td>24.284752</td>\n",
       "      <td>9981.264932</td>\n",
       "      <td>1.382997</td>\n",
       "      <td>1.112799</td>\n",
       "      <td>30.202904</td>\n",
       "      <td>20.645407</td>\n",
       "      <td>181.066207</td>\n",
       "      <td>456.098091</td>\n",
       "      <td>...</td>\n",
       "      <td>125.338794</td>\n",
       "      <td>66.256028</td>\n",
       "      <td>61.119149</td>\n",
       "      <td>29.317331</td>\n",
       "      <td>55.757415</td>\n",
       "      <td>40.177307</td>\n",
       "      <td>496.123024</td>\n",
       "      <td>2.703626</td>\n",
       "      <td>1.328095</td>\n",
       "      <td>79442.502883</td>\n",
       "    </tr>\n",
       "    <tr>\n",
       "      <th>min</th>\n",
       "      <td>1.000000</td>\n",
       "      <td>20.000000</td>\n",
       "      <td>21.000000</td>\n",
       "      <td>1300.000000</td>\n",
       "      <td>1.000000</td>\n",
       "      <td>1.000000</td>\n",
       "      <td>1872.000000</td>\n",
       "      <td>1950.000000</td>\n",
       "      <td>0.000000</td>\n",
       "      <td>0.000000</td>\n",
       "      <td>...</td>\n",
       "      <td>0.000000</td>\n",
       "      <td>0.000000</td>\n",
       "      <td>0.000000</td>\n",
       "      <td>0.000000</td>\n",
       "      <td>0.000000</td>\n",
       "      <td>0.000000</td>\n",
       "      <td>0.000000</td>\n",
       "      <td>1.000000</td>\n",
       "      <td>2006.000000</td>\n",
       "      <td>34900.000000</td>\n",
       "    </tr>\n",
       "    <tr>\n",
       "      <th>25%</th>\n",
       "      <td>365.750000</td>\n",
       "      <td>20.000000</td>\n",
       "      <td>59.000000</td>\n",
       "      <td>7553.500000</td>\n",
       "      <td>5.000000</td>\n",
       "      <td>5.000000</td>\n",
       "      <td>1954.000000</td>\n",
       "      <td>1967.000000</td>\n",
       "      <td>0.000000</td>\n",
       "      <td>0.000000</td>\n",
       "      <td>...</td>\n",
       "      <td>0.000000</td>\n",
       "      <td>0.000000</td>\n",
       "      <td>0.000000</td>\n",
       "      <td>0.000000</td>\n",
       "      <td>0.000000</td>\n",
       "      <td>0.000000</td>\n",
       "      <td>0.000000</td>\n",
       "      <td>5.000000</td>\n",
       "      <td>2007.000000</td>\n",
       "      <td>129975.000000</td>\n",
       "    </tr>\n",
       "    <tr>\n",
       "      <th>50%</th>\n",
       "      <td>730.500000</td>\n",
       "      <td>50.000000</td>\n",
       "      <td>69.000000</td>\n",
       "      <td>9478.500000</td>\n",
       "      <td>6.000000</td>\n",
       "      <td>5.000000</td>\n",
       "      <td>1973.000000</td>\n",
       "      <td>1994.000000</td>\n",
       "      <td>0.000000</td>\n",
       "      <td>383.500000</td>\n",
       "      <td>...</td>\n",
       "      <td>0.000000</td>\n",
       "      <td>25.000000</td>\n",
       "      <td>0.000000</td>\n",
       "      <td>0.000000</td>\n",
       "      <td>0.000000</td>\n",
       "      <td>0.000000</td>\n",
       "      <td>0.000000</td>\n",
       "      <td>6.000000</td>\n",
       "      <td>2008.000000</td>\n",
       "      <td>163000.000000</td>\n",
       "    </tr>\n",
       "    <tr>\n",
       "      <th>75%</th>\n",
       "      <td>1095.250000</td>\n",
       "      <td>70.000000</td>\n",
       "      <td>80.000000</td>\n",
       "      <td>11601.500000</td>\n",
       "      <td>7.000000</td>\n",
       "      <td>6.000000</td>\n",
       "      <td>2000.000000</td>\n",
       "      <td>2004.000000</td>\n",
       "      <td>166.000000</td>\n",
       "      <td>712.250000</td>\n",
       "      <td>...</td>\n",
       "      <td>168.000000</td>\n",
       "      <td>68.000000</td>\n",
       "      <td>0.000000</td>\n",
       "      <td>0.000000</td>\n",
       "      <td>0.000000</td>\n",
       "      <td>0.000000</td>\n",
       "      <td>0.000000</td>\n",
       "      <td>8.000000</td>\n",
       "      <td>2009.000000</td>\n",
       "      <td>214000.000000</td>\n",
       "    </tr>\n",
       "    <tr>\n",
       "      <th>max</th>\n",
       "      <td>1460.000000</td>\n",
       "      <td>190.000000</td>\n",
       "      <td>313.000000</td>\n",
       "      <td>215245.000000</td>\n",
       "      <td>10.000000</td>\n",
       "      <td>9.000000</td>\n",
       "      <td>2010.000000</td>\n",
       "      <td>2010.000000</td>\n",
       "      <td>1600.000000</td>\n",
       "      <td>5644.000000</td>\n",
       "      <td>...</td>\n",
       "      <td>857.000000</td>\n",
       "      <td>547.000000</td>\n",
       "      <td>552.000000</td>\n",
       "      <td>508.000000</td>\n",
       "      <td>480.000000</td>\n",
       "      <td>738.000000</td>\n",
       "      <td>15500.000000</td>\n",
       "      <td>12.000000</td>\n",
       "      <td>2010.000000</td>\n",
       "      <td>755000.000000</td>\n",
       "    </tr>\n",
       "  </tbody>\n",
       "</table>\n",
       "<p>8 rows × 38 columns</p>\n",
       "</div>"
      ],
      "text/plain": [
       "                Id   MSSubClass  LotFrontage        LotArea  OverallQual  \\\n",
       "count  1460.000000  1460.000000  1201.000000    1460.000000  1460.000000   \n",
       "mean    730.500000    56.897260    70.049958   10516.828082     6.099315   \n",
       "std     421.610009    42.300571    24.284752    9981.264932     1.382997   \n",
       "min       1.000000    20.000000    21.000000    1300.000000     1.000000   \n",
       "25%     365.750000    20.000000    59.000000    7553.500000     5.000000   \n",
       "50%     730.500000    50.000000    69.000000    9478.500000     6.000000   \n",
       "75%    1095.250000    70.000000    80.000000   11601.500000     7.000000   \n",
       "max    1460.000000   190.000000   313.000000  215245.000000    10.000000   \n",
       "\n",
       "       OverallCond    YearBuilt  YearRemodAdd   MasVnrArea   BsmtFinSF1  ...  \\\n",
       "count  1460.000000  1460.000000   1460.000000  1452.000000  1460.000000  ...   \n",
       "mean      5.575342  1971.267808   1984.865753   103.685262   443.639726  ...   \n",
       "std       1.112799    30.202904     20.645407   181.066207   456.098091  ...   \n",
       "min       1.000000  1872.000000   1950.000000     0.000000     0.000000  ...   \n",
       "25%       5.000000  1954.000000   1967.000000     0.000000     0.000000  ...   \n",
       "50%       5.000000  1973.000000   1994.000000     0.000000   383.500000  ...   \n",
       "75%       6.000000  2000.000000   2004.000000   166.000000   712.250000  ...   \n",
       "max       9.000000  2010.000000   2010.000000  1600.000000  5644.000000  ...   \n",
       "\n",
       "        WoodDeckSF  OpenPorchSF  EnclosedPorch    3SsnPorch  ScreenPorch  \\\n",
       "count  1460.000000  1460.000000    1460.000000  1460.000000  1460.000000   \n",
       "mean     94.244521    46.660274      21.954110     3.409589    15.060959   \n",
       "std     125.338794    66.256028      61.119149    29.317331    55.757415   \n",
       "min       0.000000     0.000000       0.000000     0.000000     0.000000   \n",
       "25%       0.000000     0.000000       0.000000     0.000000     0.000000   \n",
       "50%       0.000000    25.000000       0.000000     0.000000     0.000000   \n",
       "75%     168.000000    68.000000       0.000000     0.000000     0.000000   \n",
       "max     857.000000   547.000000     552.000000   508.000000   480.000000   \n",
       "\n",
       "          PoolArea       MiscVal       MoSold       YrSold      SalePrice  \n",
       "count  1460.000000   1460.000000  1460.000000  1460.000000    1460.000000  \n",
       "mean      2.758904     43.489041     6.321918  2007.815753  180921.195890  \n",
       "std      40.177307    496.123024     2.703626     1.328095   79442.502883  \n",
       "min       0.000000      0.000000     1.000000  2006.000000   34900.000000  \n",
       "25%       0.000000      0.000000     5.000000  2007.000000  129975.000000  \n",
       "50%       0.000000      0.000000     6.000000  2008.000000  163000.000000  \n",
       "75%       0.000000      0.000000     8.000000  2009.000000  214000.000000  \n",
       "max     738.000000  15500.000000    12.000000  2010.000000  755000.000000  \n",
       "\n",
       "[8 rows x 38 columns]"
      ]
     },
     "execution_count": 3,
     "metadata": {},
     "output_type": "execute_result"
    }
   ],
   "source": [
    "# Check overall statistics\n",
    "train.describe()"
   ]
  },
  {
   "attachments": {},
   "cell_type": "markdown",
   "metadata": {},
   "source": [
    "## Cleaning Tasks\n",
    "1. Convert to numbers:\n",
    "    - LotShape\n",
    "    - OverallQual\n",
    "\n",
    "    - Consider transforming numbers into z-scores, since the numbers themselves are not super important.\n",
    "2. Remove outliers\n",
    "    "
   ]
  },
  {
   "attachments": {},
   "cell_type": "markdown",
   "metadata": {},
   "source": [
    "---\n",
    "## Standardize column names"
   ]
  },
  {
   "cell_type": "code",
   "execution_count": 4,
   "metadata": {},
   "outputs": [],
   "source": [
    "# Remap dictionary for original column names\n",
    "column_remap = {\n",
    "    \"Id\": \"id\",\n",
    "    \"MSSubClass\": \"ms-subclass\",\n",
    "    \"MSZoning\": \"ms-zoning\",\n",
    "    \"LotFrontage\": \"lot-frontage\",\n",
    "    \"LotArea\": \"lot-area\",\n",
    "    \"Street\": \"roads-street-material\",\n",
    "    \"Alley\": \"roads-alley-material\",\n",
    "    \"LotShape\": \"lot-shape\",\n",
    "    \"LandContour\": \"lot-flatness\",\n",
    "    \"Utilities\": \"utilities-city-provided\",\n",
    "    \"LotConfig\": \"lot-access\",\n",
    "    \"LandSlope\": \"lot-slope\",\n",
    "    \"Neighborhood\": \"location-neighborhood\",\n",
    "    \"Condition1\": \"location-feature-1\",\n",
    "    \"Condition2\": \"location-feature-2\",\n",
    "    \"BldgType\": \"general-dwelling-type\",\n",
    "    \"HouseStyle\": \"construction-style\",\n",
    "    \"OverallQual\": \"ratings-overall-quality\",\n",
    "    \"OverallCond\": \"ratings-overall-condition\",\n",
    "    \"YearBuilt\": \"general-build-year\",\n",
    "    \"YearRemodAdd\": \"general-remodel-year\",\n",
    "    \"RoofStyle\": \"construction-roof-style\",\n",
    "    \"RoofMatl\":\"construction-roof-material\",\n",
    "    \"Exterior1st\": \"construction-exterior-1\",\n",
    "    \"Exterior2nd\": \"construction-exterior-2\",\n",
    "    \"MasVnrType\": \"construction-masonry-type\",\n",
    "    \"MasVnrArea\": \"area-masonry-veneer\",\n",
    "    \"ExterQual\": \"ratings-exterior-quality\",\n",
    "    \"ExterCond\": \"ratings-exterior-condition\",\n",
    "    \"Foundation\": \"construction-foundation-type\",\n",
    "    \"BsmtQual\": \"basement-height\",\n",
    "    \"BsmtQual\": \"ratings-basement-quality\",\n",
    "    \"BsmtCond\": \"ratings-basement-condition\",\n",
    "    \"BsmtExposure\": \"construction-basement-access\",\n",
    "    \"BsmtFinType1\": \"construction-basement-finish-1\",\n",
    "    \"BsmtFinSF1\": \"area-basement-finished-1\",\n",
    "    \"BsmtFinType2\": \"construction-basement-finish-2\",\n",
    "    \"BsmtFinSF2\": \"area-basement-finished-2\",\n",
    "    \"BsmtUnfSF\": \"area-basement-unfinished\",\n",
    "    \"TotalBsmtSF\": \"area-basement-total\",\n",
    "    \"Heating\": \"utilities-heating-type\",\n",
    "    \"HeatingQC\": \"ratings-heating-combined\",\n",
    "    \"CentralAir\": \"utilities-central-air-conditioning\",\n",
    "    \"Electrical\": \"utilities-electrical-wiring-type\",\n",
    "    \"1stFlrSF\": \"area-floor-1\",\n",
    "    \"2ndFlrSF\": \"area-floor-2\",\n",
    "    \"LowQualFinSF\": \"general-total-poor-finish-area\",\n",
    "    \"GrLivArea\": \"area-above-grade-living\",\n",
    "    \"BsmtFullBath\": \"general-number-basement-full-baths\",\n",
    "    \"BsmtHalfBath\": \"general-number-basement-half-baths\",\n",
    "    \"FullBath\": \"general-number-nonbasement-full-baths\",\n",
    "    \"HalfBath\": \"general-number-nonbasement-half-baths\",\n",
    "    \"BedroomAbvGr\": \"general-number-nonbasement-bedrooms\",\n",
    "    \"KitchenAbvGr\": \"general-number-kitchens\",\n",
    "    \"KitchenQual\": \"ratings-kitchen-quality\",\n",
    "    \"TotRmsAbvGrd\": \"general-number-nonbasement-rooms\",\n",
    "    \"Functional\": \"ratings-home-functionality\",\n",
    "    \"Fireplaces\": \"general-number-fireplaces\",\n",
    "    \"FireplaceQu\": \"ratings-fireplace-quality\",\n",
    "    \"GarageType\": \"garage-location\",\n",
    "    \"GarageYrBlt\": \"garage-build-year\",\n",
    "    \"GarageFinish\": \"garage-finish\",\n",
    "    \"GarageCars\": \"general-number-garage-spots\",\n",
    "    \"GarageArea\": \"area-garage\",\n",
    "    \"GarageQual\": \"ratings-garage-quality\",\n",
    "    \"GarageCond\": \"ratings-garage-condition\",\n",
    "    \"PavedDrive\": \"roads-driveway-material\",\n",
    "    \"WoodDeckSF\": \"area-wood-deck\",\n",
    "    \"OpenPorchSF\": \"area-open-porch\",\n",
    "    \"EnclosedPorch\": \"area-closed-porch\",\n",
    "    \"3SsnPorch\": \"area-three-season\",\n",
    "    \"ScreenPorch\": \"area-screen-porch\",\n",
    "    \"PoolArea\": \"area-pool\",\n",
    "    \"PoolQC\": \"ratings-pool-combined\",\n",
    "    \"Fence\": \"lot-fence-material\",\n",
    "    \"MiscFeature\": \"lot-misc-feature\",\n",
    "    \"MiscVal\": \"lot-misc-value\",\n",
    "    \"MoSold\": \"general-month-sold\",\n",
    "    \"YrSold\": \"general-year-sold\",\n",
    "    \"SaleType\": \"general-sale-type\",\n",
    "    \"SaleCondition\": \"general-sale-condition\",\n",
    "    \"SalePrice\": \"sale-price\"}"
   ]
  },
  {
   "cell_type": "code",
   "execution_count": 5,
   "metadata": {},
   "outputs": [],
   "source": [
    "train.columns = \\\n",
    "    pd.Series(train.columns).map(column_remap)\n",
    "test.columns = \\\n",
    "    pd.Series(test.columns).map(column_remap)"
   ]
  },
  {
   "attachments": {},
   "cell_type": "markdown",
   "metadata": {},
   "source": [
    "---\n",
    "## MSSubClass\n",
    "- Checked for nan\n",
    "- Remapped categorical"
   ]
  },
  {
   "attachments": {},
   "cell_type": "markdown",
   "metadata": {},
   "source": [
    "This is a categorical variable falsely masked with numeric codes. All of the listed codes correspond to the codes given in the data dictionary, so I will convert the numbers into the given strings."
   ]
  },
  {
   "cell_type": "code",
   "execution_count": 6,
   "metadata": {},
   "outputs": [],
   "source": [
    "subclass_remap = {\n",
    "        20:\t\"1-STORY 1946 & NEWER ALL STYLES\",\n",
    "        30:\t\"1-STORY 1945 & OLDER\",\n",
    "        40:\t\"1-STORY W/FINISHED ATTIC ALL AGES\",\n",
    "        45:\t\"1-1/2 STORY - UNFINISHED ALL AGES\",\n",
    "        50:\t\"1-1/2 STORY FINISHED ALL AGES\",\n",
    "        60:\t\"2-STORY 1946 & NEWER\",\n",
    "        70:\t\"2-STORY 1945 & OLDER\",\n",
    "        75:\t\"2-1/2 STORY ALL AGES\",\n",
    "        80:\t\"SPLIT OR MULTI-LEVEL\",\n",
    "        85:\t\"SPLIT FOYER\",\n",
    "        90:\t\"DUPLEX - ALL STYLES AND AGES\",\n",
    "       120:\t\"1-STORY PUD (Planned Unit Development) - 1946 & NEWER\",\n",
    "       150:\t\"1-1/2 STORY PUD - ALL AGES\",\n",
    "       160:\t\"2-STORY PUD - 1946 & NEWER\",\n",
    "       180:\t\"PUD - MULTILEVEL - INCL SPLIT LEV/FOYER\",\n",
    "       190:\t\"2 FAMILY CONVERSION - ALL STYLES AND AGES\"}\n",
    "\n",
    "train[\"ms-subclass\"] = \\\n",
    "    train[\"ms-subclass\"].map(subclass_remap)\n",
    "\n",
    "test[\"ms-subclass\"] = \\\n",
    "    test[\"ms-subclass\"].map(subclass_remap)"
   ]
  },
  {
   "cell_type": "code",
   "execution_count": 7,
   "metadata": {},
   "outputs": [
    {
     "name": "stdout",
     "output_type": "stream",
     "text": [
      "ms-subclass\n",
      "False    1460\n",
      "Name: count, dtype: int64\n",
      "ms-subclass\n",
      "False    1459\n",
      "Name: count, dtype: int64\n"
     ]
    }
   ],
   "source": [
    "print(train[\"ms-subclass\"].isna().value_counts())\n",
    "print(test[\"ms-subclass\"].isna().value_counts())"
   ]
  },
  {
   "attachments": {},
   "cell_type": "markdown",
   "metadata": {},
   "source": [
    "---\n",
    "## MSZoning\n",
    "- Checked for nan\n",
    "    - 10 nan in train set\n",
    "    - 4 nan in test set\n",
    "    - All nan replaced with \"residential-low-density\", the most common option\n",
    "- Remapped categorical"
   ]
  },
  {
   "cell_type": "code",
   "execution_count": 8,
   "metadata": {},
   "outputs": [],
   "source": [
    "zoning_remap = {\n",
    "    \"RL\": \"residential-low-density\",\n",
    "    \"RP\": \"residential-low-density-park\",\n",
    "    \"RM\": \"residential-medium-density\",\n",
    "    \"RH\": \"residential-high-density\",\n",
    "    \"A\": \"agricultural\",\n",
    "    \"C\": \"commercial\",\n",
    "    \"FV\": \"residential-floating-village\",\n",
    "    \"I\": \"industrial\"}\n",
    "\n",
    "train[\"ms-zoning\"] = \\\n",
    "    train[\"ms-zoning\"].map(zoning_remap)\n",
    "test[\"ms-zoning\"] = \\\n",
    "    test[\"ms-zoning\"].map(zoning_remap)"
   ]
  },
  {
   "cell_type": "code",
   "execution_count": 9,
   "metadata": {},
   "outputs": [
    {
     "name": "stdout",
     "output_type": "stream",
     "text": [
      "ms-zoning\n",
      "False    1450\n",
      "True       10\n",
      "Name: count, dtype: int64\n",
      "ms-zoning\n",
      "False    1440\n",
      "True       19\n",
      "Name: count, dtype: int64\n"
     ]
    }
   ],
   "source": [
    "print(train[\"ms-zoning\"].isna().value_counts())\n",
    "print(test[\"ms-zoning\"].isna().value_counts())"
   ]
  },
  {
   "cell_type": "code",
   "execution_count": 10,
   "metadata": {},
   "outputs": [],
   "source": [
    "train.loc[train[\"ms-zoning\"].isna(), \"ms-zoning\"] = \"residential-low-density\"\n",
    "test.loc[test[\"ms-zoning\"].isna(), \"ms-zoning\"] = \"residential-low-density\""
   ]
  },
  {
   "cell_type": "code",
   "execution_count": 11,
   "metadata": {},
   "outputs": [
    {
     "name": "stdout",
     "output_type": "stream",
     "text": [
      "ms-zoning\n",
      "False    1460\n",
      "Name: count, dtype: int64\n",
      "ms-zoning\n",
      "False    1459\n",
      "Name: count, dtype: int64\n"
     ]
    }
   ],
   "source": [
    "print(train[\"ms-zoning\"].isna().value_counts())\n",
    "print(test[\"ms-zoning\"].isna().value_counts())"
   ]
  },
  {
   "attachments": {},
   "cell_type": "markdown",
   "metadata": {},
   "source": [
    "---\n",
    "## Lot Frontage\n",
    "- Checked for nan\n",
    "    - 259 nan values (17%) in train set\n",
    "    - 227 nan values (16%) in test set\n",
    "- Worked on a proxy for lot frontage:\n",
    "    - Related to most lot features:\n",
    "        - lot-area, lot-shape, lot-access\n",
    "    - lot-frontage varies with lot-shape\n",
    "        - median lot-frontage for...\n",
    "            - lot-shape Reg ==> 67\n",
    "            - lot-shape IR1 ==> 74\n",
    "            - lot-shape IR2 ==> 57.5\n",
    "            - lot-shape IR3 ==> 150\n",
    "    - set missing values to the median values for their lot shape"
   ]
  },
  {
   "cell_type": "code",
   "execution_count": 12,
   "metadata": {},
   "outputs": [
    {
     "name": "stdout",
     "output_type": "stream",
     "text": [
      "lot-frontage\n",
      "False    1201\n",
      "True      259\n",
      "Name: count, dtype: int64\n",
      "lot-frontage\n",
      "False    1232\n",
      "True      227\n",
      "Name: count, dtype: int64\n"
     ]
    }
   ],
   "source": [
    "print(train[\"lot-frontage\"].isna().value_counts())\n",
    "print(test[\"lot-frontage\"].isna().value_counts())"
   ]
  },
  {
   "cell_type": "code",
   "execution_count": 13,
   "metadata": {},
   "outputs": [],
   "source": [
    "reg_lots = train.loc[train.loc[:, \"lot-shape\"] == \"Reg\", :]\n",
    "ir1_lots = train.loc[train.loc[:, \"lot-shape\"] == \"IR1\", :]\n",
    "ir2_lots = train.loc[train.loc[:, \"lot-shape\"] == \"IR2\", :]\n",
    "ir3_lots = train.loc[train.loc[:, \"lot-shape\"] == \"IR3\", :]"
   ]
  },
  {
   "cell_type": "code",
   "execution_count": 14,
   "metadata": {},
   "outputs": [],
   "source": [
    "reg_lots_no_nan = reg_lots.loc[~reg_lots[\"lot-frontage\"].isna(), :]\n",
    "ir1_lots_no_nan = ir1_lots.loc[~ir1_lots[\"lot-frontage\"].isna(), :]\n",
    "ir2_lots_no_nan = ir2_lots.loc[~ir2_lots[\"lot-frontage\"].isna(), :]\n",
    "ir3_lots_no_nan = ir3_lots.loc[~ir3_lots[\"lot-frontage\"].isna(), :]"
   ]
  },
  {
   "cell_type": "code",
   "execution_count": 15,
   "metadata": {},
   "outputs": [],
   "source": [
    "reg_median = np.median(reg_lots_no_nan[\"lot-frontage\"])\n",
    "ir1_median = np.median(ir1_lots_no_nan[\"lot-frontage\"])\n",
    "ir2_median = np.median(ir2_lots_no_nan[\"lot-frontage\"])\n",
    "ir3_median = np.median(ir3_lots_no_nan[\"lot-frontage\"])"
   ]
  },
  {
   "cell_type": "code",
   "execution_count": 16,
   "metadata": {},
   "outputs": [],
   "source": [
    "train.loc[((train.loc[:, \"lot-shape\"] == \"Reg\") \n",
    "           & (train[\"lot-frontage\"].isna())), \"lot-frontage\"] = \\\n",
    "    reg_median\n",
    "\n",
    "train.loc[((train.loc[:, \"lot-shape\"] == \"IR1\") \n",
    "           & (train[\"lot-frontage\"].isna())), \"lot-frontage\"] = \\\n",
    "    ir1_median\n",
    "\n",
    "train.loc[((train.loc[:, \"lot-shape\"] == \"IR2\") \n",
    "           & (train[\"lot-frontage\"].isna())), \"lot-frontage\"] = \\\n",
    "    ir2_median\n",
    "\n",
    "train.loc[((train.loc[:, \"lot-shape\"] == \"IR3\") \n",
    "           & (train[\"lot-frontage\"].isna())), \"lot-frontage\"] = \\\n",
    "    ir3_median"
   ]
  },
  {
   "cell_type": "code",
   "execution_count": 17,
   "metadata": {},
   "outputs": [],
   "source": [
    "test.loc[((test.loc[:, \"lot-shape\"] == \"Reg\") \n",
    "           & (test[\"lot-frontage\"].isna())), \"lot-frontage\"] = \\\n",
    "    reg_median\n",
    "\n",
    "test.loc[((test.loc[:, \"lot-shape\"] == \"IR1\") \n",
    "           & (test[\"lot-frontage\"].isna())), \"lot-frontage\"] = \\\n",
    "    ir1_median\n",
    "\n",
    "test.loc[((test.loc[:, \"lot-shape\"] == \"IR2\") \n",
    "           & (test[\"lot-frontage\"].isna())), \"lot-frontage\"] = \\\n",
    "    ir2_median\n",
    "\n",
    "test.loc[((test.loc[:, \"lot-shape\"] == \"IR3\") \n",
    "           & (test[\"lot-frontage\"].isna())), \"lot-frontage\"] = \\\n",
    "    ir3_median"
   ]
  },
  {
   "attachments": {},
   "cell_type": "markdown",
   "metadata": {},
   "source": [
    "---\n",
    "## Lot Area\n",
    "- Checked for nan\n",
    "    - No nan in either train or test"
   ]
  },
  {
   "cell_type": "code",
   "execution_count": 18,
   "metadata": {},
   "outputs": [
    {
     "name": "stdout",
     "output_type": "stream",
     "text": [
      "lot-area\n",
      "False    1460\n",
      "Name: count, dtype: int64\n",
      "lot-area\n",
      "False    1459\n",
      "Name: count, dtype: int64\n"
     ]
    }
   ],
   "source": [
    "print(train[\"lot-area\"].isna().value_counts())\n",
    "print(test[\"lot-area\"].isna().value_counts())"
   ]
  },
  {
   "attachments": {},
   "cell_type": "markdown",
   "metadata": {},
   "source": [
    "---\n",
    "## Street and Alleys\n",
    "- Remapped categoricals"
   ]
  },
  {
   "cell_type": "code",
   "execution_count": 19,
   "metadata": {},
   "outputs": [],
   "source": [
    "street_remap = {\n",
    "    \"Grvl\": \"gravel\",\n",
    "    \"Pave\": \"paved\",\n",
    "    np.nan: \"none\"}"
   ]
  },
  {
   "cell_type": "code",
   "execution_count": 20,
   "metadata": {},
   "outputs": [],
   "source": [
    "train[\"roads-street-material\"] = \\\n",
    "      train[\"roads-street-material\"].map(street_remap)\n",
    "test[\"roads-street-material\"] = \\\n",
    "      test[\"roads-street-material\"].map(street_remap)\n",
    "\n",
    "train[\"roads-alley-material\"] = \\\n",
    "      train[\"roads-alley-material\"].map(street_remap)\n",
    "test[\"roads-alley-material\"] = \\\n",
    "      test[\"roads-alley-material\"].map(street_remap)"
   ]
  },
  {
   "attachments": {},
   "cell_type": "markdown",
   "metadata": {},
   "source": [
    "---\n",
    "## Lot Shape\n",
    "- Checked for nan\n",
    "- Renamed categoricals"
   ]
  },
  {
   "cell_type": "code",
   "execution_count": 21,
   "metadata": {},
   "outputs": [],
   "source": [
    "lotshape_map = {\n",
    "    \"Reg\": \"regular\",\n",
    "    \"IR1\": \"slightly-irregular\",\n",
    "    \"IR2\": \"moderately-irregular\",\n",
    "    \"IR3\": \"irregular\"}"
   ]
  },
  {
   "cell_type": "code",
   "execution_count": 22,
   "metadata": {},
   "outputs": [],
   "source": [
    "train[\"lot-shape\"] = \\\n",
    "    train[\"lot-shape\"].map(lotshape_map)\n",
    "test[\"lot-shape\"] = \\\n",
    "    test[\"lot-shape\"].map(lotshape_map)"
   ]
  },
  {
   "attachments": {},
   "cell_type": "markdown",
   "metadata": {},
   "source": [
    "---\n",
    "## Land Countour\n",
    "- Checked for nan\n",
    "- Renamed categoricals"
   ]
  },
  {
   "cell_type": "code",
   "execution_count": 23,
   "metadata": {},
   "outputs": [],
   "source": [
    "contour_map = {\n",
    "    \"Lvl\": \"level\",\n",
    "    \"Bnk\": \"slope-from-street\",\n",
    "    \"HLS\": \"slope-along-street\",\n",
    "    \"Low\": \"below-grade\"}"
   ]
  },
  {
   "cell_type": "code",
   "execution_count": 24,
   "metadata": {},
   "outputs": [],
   "source": [
    "train[\"lot-flatness\"] = \\\n",
    "    train[\"lot-flatness\"].map(contour_map)\n",
    "\n",
    "test[\"lot-flatness\"] = \\\n",
    "    test[\"lot-flatness\"].map(contour_map)"
   ]
  },
  {
   "attachments": {},
   "cell_type": "markdown",
   "metadata": {},
   "source": [
    "---\n",
    "## Utilities\n",
    "- Checked for nan\n",
    "    - 2 nan found in test dataset\n",
    "        - Set nan to \"AllPub\" (all public utilities)\n",
    "\n",
    "- Remapped categoricals"
   ]
  },
  {
   "cell_type": "code",
   "execution_count": 25,
   "metadata": {},
   "outputs": [],
   "source": [
    "utilities_map = {\n",
    "    \"AllPub\": \"electricity-gas-water-sewer\",\n",
    "    \"NoSewr\": \"electricity-gas-water\",\n",
    "    \"NoSeWa\": \"electricity-gas\",\n",
    "    \"ELO\": \"electricity\",\n",
    "    np.nan: \"electricity-gas-water-sewer\"}"
   ]
  },
  {
   "cell_type": "code",
   "execution_count": 26,
   "metadata": {},
   "outputs": [],
   "source": [
    "train[\"utilities-city-provided\"] = \\\n",
    "    train[\"utilities-city-provided\"].map(utilities_map)\n",
    "test[\"utilities-city-provided\"] = \\\n",
    "    test[\"utilities-city-provided\"].map(utilities_map)"
   ]
  },
  {
   "attachments": {},
   "cell_type": "markdown",
   "metadata": {},
   "source": [
    "---\n",
    "## Lot Config\n",
    "- Checked for nan\n",
    "- remapped categoricals"
   ]
  },
  {
   "cell_type": "code",
   "execution_count": 27,
   "metadata": {},
   "outputs": [],
   "source": [
    "access_map = {\n",
    "    \"Inside\": \"inside\",\n",
    "    \"Corner\": \"corner\",\n",
    "    \"CulDSac\": \"culdsac\",\n",
    "    \"FR2\": \"double-frontage\",\n",
    "    \"FR3\": \"triple-frontage\"}"
   ]
  },
  {
   "cell_type": "code",
   "execution_count": 28,
   "metadata": {},
   "outputs": [],
   "source": [
    "train[\"lot-access\"] = \\\n",
    "    train[\"lot-access\"].map(access_map)\n",
    "test[\"lot-access\"] = \\\n",
    "    test[\"lot-access\"].map(access_map)"
   ]
  },
  {
   "attachments": {},
   "cell_type": "markdown",
   "metadata": {},
   "source": [
    "---\n",
    "## Land Slope\n",
    "- Checked for nan\n",
    "- remapped categoricals"
   ]
  },
  {
   "cell_type": "code",
   "execution_count": 29,
   "metadata": {},
   "outputs": [],
   "source": [
    "slope_map = {\n",
    "    \"Gtl\": \"gentle-slope\",\n",
    "    \"Mod\": \"moderate-slope\",\n",
    "    \"Sev\": \"severe-slope\"}"
   ]
  },
  {
   "cell_type": "code",
   "execution_count": 30,
   "metadata": {},
   "outputs": [],
   "source": [
    "train[\"lot-slope\"] = \\\n",
    "    train[\"lot-slope\"].map(slope_map)\n",
    "test[\"lot-slope\"] = \\\n",
    "    test[\"lot-slope\"].map(slope_map)"
   ]
  },
  {
   "attachments": {},
   "cell_type": "markdown",
   "metadata": {},
   "source": [
    "---\n",
    "## Neighborhood\n",
    "- checked for nan\n",
    "- remapped"
   ]
  },
  {
   "cell_type": "code",
   "execution_count": 31,
   "metadata": {},
   "outputs": [],
   "source": [
    "\n",
    "neighborhood_map = {\n",
    "    \"Blmngtn\": \"bloomington-heights\",\n",
    "    \"Blueste\": \"bluestem\",\n",
    "    \"BrDale\": \"briardale\",\n",
    "    \"BrkSide\": \"brookside\",\n",
    "    \"ClearCr\": \"clear-creek\",\n",
    "    \"CollgCr\": \"college-creek\",\n",
    "    \"Crawfor\": \"crawford\",\n",
    "    \"Edwards\": \"edwards\",\n",
    "    \"Gilbert\": \"gilberts\",\n",
    "    \"IDOTRR\": \"iowa-dot-rail-road\",\n",
    "    \"MeadowV\": \"meadow-village\",\n",
    "    \"Mitchel\": \"mitchell\",\n",
    "    \"NAmes\": \"north-ames\",\n",
    "    \"NoRidge\": \"northridge\",\n",
    "    \"NPkVill\": \"northpart-villa\",\n",
    "    \"NridgHt\": \"northridge-heights\",\n",
    "    \"NWAmes\": \"northwest-ames\",\n",
    "    \"OldTown\": \"old-town\",\n",
    "    \"SWISU\": \"south-and-west-iowa-state\",\n",
    "    \"Sawyer\": \"sawyer\",\n",
    "    \"SawyerW\": \"sawyer-west\",\n",
    "    \"Somerst\": \"somerset\",\n",
    "    \"StoneBr\": \"stone-brook\",\n",
    "    \"Timber\": \"timberland\",\n",
    "    \"Veenker\": \"veenker\"}"
   ]
  },
  {
   "cell_type": "code",
   "execution_count": 32,
   "metadata": {},
   "outputs": [],
   "source": [
    "train[\"location-neighborhood\"] = \\\n",
    "    train[\"location-neighborhood\"].map(neighborhood_map)\n",
    "test[\"location-neighborhood\"] = \\\n",
    "    test[\"location-neighborhood\"].map(neighborhood_map)"
   ]
  },
  {
   "attachments": {},
   "cell_type": "markdown",
   "metadata": {},
   "source": [
    "---\n",
    "## Condition1 and Condition2\n",
    "- checked for nan\n",
    "- decided against remapping"
   ]
  },
  {
   "attachments": {},
   "cell_type": "markdown",
   "metadata": {},
   "source": [
    "---\n",
    "---\n",
    "Following columns still contained null values. They were managed as described below:\n",
    "- Unchanged, as NA indicated absence of a feature:\n",
    "    - 'ratings-basement-quality'\n",
    "    - 'ratings-basement-condition',\n",
    "    - 'construction-basement-access'\n",
    "    - 'construction-basement-finish-1'\n",
    "    - 'construction-basement-finish-2'\n",
    "    - 'ratings-fireplace-quality'\n",
    "    - 'garage-location'\n",
    "    - 'garage-build-year'\n",
    "    - 'garage-finish'\n",
    "    - 'ratings-garage-quality'\n",
    "    - 'ratings-garage-condition',\n",
    "    - 'lot-fence-material'\n",
    "    - 'lot-misc-feature'\n",
    "    - 'ratings-pool-combined'\n",
    "\n",
    "\n",
    "\n",
    "- 'utilities-electrical-wiring-type'\n",
    "    - Only one item with this found. Filled this value with \"SBrkr\", since it was built in 2006"
   ]
  },
  {
   "cell_type": "code",
   "execution_count": 33,
   "metadata": {},
   "outputs": [],
   "source": [
    "train.loc[train[\"utilities-electrical-wiring-type\"].isna(), \"utilities-electrical-wiring-type\"] = \"SBrkr\""
   ]
  },
  {
   "cell_type": "code",
   "execution_count": 34,
   "metadata": {},
   "outputs": [],
   "source": [
    "masonry_type_map = {\n",
    "    np.nan: \"non-masonry\",\n",
    "    \"BrkFace\": \"brick-face\",\n",
    "    \"Stone\": \"stone\",\n",
    "    \"BrkCmn\": \"brick-common\"}\n",
    "\n",
    "train[\"construction-masonry-type\"] = \\\n",
    "    train[\"construction-masonry-type\"].map(masonry_type_map)\n",
    "test[\"construction-masonry-type\"] = \\\n",
    "    test[\"construction-masonry-type\"].map(masonry_type_map)"
   ]
  },
  {
   "cell_type": "code",
   "execution_count": 35,
   "metadata": {},
   "outputs": [],
   "source": [
    "train[\"area-masonry-veneer\"] = \\\n",
    "    train[\"area-masonry-veneer\"].fillna(0)\n",
    "test[\"area-masonry-veneer\"] = \\\n",
    "    test[\"area-masonry-veneer\"].fillna(0)"
   ]
  },
  {
   "cell_type": "code",
   "execution_count": 36,
   "metadata": {},
   "outputs": [
    {
     "data": {
      "text/plain": [
       "area-masonry-veneer\n",
       "0.0       892\n",
       "176.0      10\n",
       "144.0       9\n",
       "120.0       8\n",
       "216.0       8\n",
       "         ... \n",
       "647.0       1\n",
       "1290.0      1\n",
       "495.0       1\n",
       "292.0       1\n",
       "382.0       1\n",
       "Name: count, Length: 303, dtype: int64"
      ]
     },
     "execution_count": 36,
     "metadata": {},
     "output_type": "execute_result"
    }
   ],
   "source": [
    "test[\"area-masonry-veneer\"].value_counts(dropna=False)"
   ]
  },
  {
   "cell_type": "code",
   "execution_count": 37,
   "metadata": {},
   "outputs": [
    {
     "name": "stdout",
     "output_type": "stream",
     "text": [
      "<class 'pandas.core.frame.DataFrame'>\n",
      "RangeIndex: 1460 entries, 0 to 1459\n",
      "Data columns (total 81 columns):\n",
      " #   Column                                 Non-Null Count  Dtype  \n",
      "---  ------                                 --------------  -----  \n",
      " 0   id                                     1460 non-null   int64  \n",
      " 1   ms-subclass                            1460 non-null   object \n",
      " 2   ms-zoning                              1460 non-null   object \n",
      " 3   lot-frontage                           1460 non-null   float64\n",
      " 4   lot-area                               1460 non-null   int64  \n",
      " 5   roads-street-material                  1460 non-null   object \n",
      " 6   roads-alley-material                   1460 non-null   object \n",
      " 7   lot-shape                              1460 non-null   object \n",
      " 8   lot-flatness                           1460 non-null   object \n",
      " 9   utilities-city-provided                1460 non-null   object \n",
      " 10  lot-access                             1460 non-null   object \n",
      " 11  lot-slope                              1460 non-null   object \n",
      " 12  location-neighborhood                  1460 non-null   object \n",
      " 13  location-feature-1                     1460 non-null   object \n",
      " 14  location-feature-2                     1460 non-null   object \n",
      " 15  general-dwelling-type                  1460 non-null   object \n",
      " 16  construction-style                     1460 non-null   object \n",
      " 17  ratings-overall-quality                1460 non-null   int64  \n",
      " 18  ratings-overall-condition              1460 non-null   int64  \n",
      " 19  general-build-year                     1460 non-null   int64  \n",
      " 20  general-remodel-year                   1460 non-null   int64  \n",
      " 21  construction-roof-style                1460 non-null   object \n",
      " 22  construction-roof-material             1460 non-null   object \n",
      " 23  construction-exterior-1                1460 non-null   object \n",
      " 24  construction-exterior-2                1460 non-null   object \n",
      " 25  construction-masonry-type              1460 non-null   object \n",
      " 26  area-masonry-veneer                    1460 non-null   float64\n",
      " 27  ratings-exterior-quality               1460 non-null   object \n",
      " 28  ratings-exterior-condition             1460 non-null   object \n",
      " 29  construction-foundation-type           1460 non-null   object \n",
      " 30  ratings-basement-quality               1423 non-null   object \n",
      " 31  ratings-basement-condition             1423 non-null   object \n",
      " 32  construction-basement-access           1422 non-null   object \n",
      " 33  construction-basement-finish-1         1423 non-null   object \n",
      " 34  area-basement-finished-1               1460 non-null   int64  \n",
      " 35  construction-basement-finish-2         1422 non-null   object \n",
      " 36  area-basement-finished-2               1460 non-null   int64  \n",
      " 37  area-basement-unfinished               1460 non-null   int64  \n",
      " 38  area-basement-total                    1460 non-null   int64  \n",
      " 39  utilities-heating-type                 1460 non-null   object \n",
      " 40  ratings-heating-combined               1460 non-null   object \n",
      " 41  utilities-central-air-conditioning     1460 non-null   object \n",
      " 42  utilities-electrical-wiring-type       1460 non-null   object \n",
      " 43  area-floor-1                           1460 non-null   int64  \n",
      " 44  area-floor-2                           1460 non-null   int64  \n",
      " 45  general-total-poor-finish-area         1460 non-null   int64  \n",
      " 46  area-above-grade-living                1460 non-null   int64  \n",
      " 47  general-number-basement-full-baths     1460 non-null   int64  \n",
      " 48  general-number-basement-half-baths     1460 non-null   int64  \n",
      " 49  general-number-nonbasement-full-baths  1460 non-null   int64  \n",
      " 50  general-number-nonbasement-half-baths  1460 non-null   int64  \n",
      " 51  general-number-nonbasement-bedrooms    1460 non-null   int64  \n",
      " 52  general-number-kitchens                1460 non-null   int64  \n",
      " 53  ratings-kitchen-quality                1460 non-null   object \n",
      " 54  general-number-nonbasement-rooms       1460 non-null   int64  \n",
      " 55  ratings-home-functionality             1460 non-null   object \n",
      " 56  general-number-fireplaces              1460 non-null   int64  \n",
      " 57  ratings-fireplace-quality              770 non-null    object \n",
      " 58  garage-location                        1379 non-null   object \n",
      " 59  garage-build-year                      1379 non-null   float64\n",
      " 60  garage-finish                          1379 non-null   object \n",
      " 61  general-number-garage-spots            1460 non-null   int64  \n",
      " 62  area-garage                            1460 non-null   int64  \n",
      " 63  ratings-garage-quality                 1379 non-null   object \n",
      " 64  ratings-garage-condition               1379 non-null   object \n",
      " 65  roads-driveway-material                1460 non-null   object \n",
      " 66  area-wood-deck                         1460 non-null   int64  \n",
      " 67  area-open-porch                        1460 non-null   int64  \n",
      " 68  area-closed-porch                      1460 non-null   int64  \n",
      " 69  area-three-season                      1460 non-null   int64  \n",
      " 70  area-screen-porch                      1460 non-null   int64  \n",
      " 71  area-pool                              1460 non-null   int64  \n",
      " 72  ratings-pool-combined                  7 non-null      object \n",
      " 73  lot-fence-material                     281 non-null    object \n",
      " 74  lot-misc-feature                       54 non-null     object \n",
      " 75  lot-misc-value                         1460 non-null   int64  \n",
      " 76  general-month-sold                     1460 non-null   int64  \n",
      " 77  general-year-sold                      1460 non-null   int64  \n",
      " 78  general-sale-type                      1460 non-null   object \n",
      " 79  general-sale-condition                 1460 non-null   object \n",
      " 80  sale-price                             1460 non-null   int64  \n",
      "dtypes: float64(3), int64(34), object(44)\n",
      "memory usage: 924.0+ KB\n"
     ]
    }
   ],
   "source": [
    "train.info()"
   ]
  },
  {
   "cell_type": "code",
   "execution_count": 38,
   "metadata": {},
   "outputs": [],
   "source": [
    "# Convert columns that do not need to be floats into ints\n",
    "float_columns = [\"lot-frontage\", \"area-masonry-veneer\"]\n",
    "\n",
    "for column_name in float_columns:\n",
    "    train[column_name] = train[column_name].astype(int)\n",
    "    test[column_name] = test[column_name].astype(int)"
   ]
  },
  {
   "cell_type": "code",
   "execution_count": 39,
   "metadata": {},
   "outputs": [],
   "source": [
    "train.to_csv(PROJECT_ROOT + \"/data/interim/train-cleaned.csv\")\n",
    "test.to_csv(PROJECT_ROOT + \"/data/interim/test-cleaned.csv\")"
   ]
  }
 ],
 "metadata": {
  "kernelspec": {
   "display_name": "ames-housing",
   "language": "python",
   "name": "python3"
  },
  "language_info": {
   "codemirror_mode": {
    "name": "ipython",
    "version": 3
   },
   "file_extension": ".py",
   "mimetype": "text/x-python",
   "name": "python",
   "nbconvert_exporter": "python",
   "pygments_lexer": "ipython3",
   "version": "3.11.3"
  },
  "orig_nbformat": 4
 },
 "nbformat": 4,
 "nbformat_minor": 2
}
